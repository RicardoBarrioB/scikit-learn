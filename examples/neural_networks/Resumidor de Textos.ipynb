{
 "cells": [
  {
   "cell_type": "markdown",
   "id": "07b5faa9",
   "metadata": {},
   "source": [
    "# Aplicación de resumenes con LangChain y OpenAI"
   ]
  },
  {
   "cell_type": "markdown",
   "id": "48fb229c",
   "metadata": {},
   "source": [
    "## Preparando los Datos"
   ]
  },
  {
   "cell_type": "code",
   "execution_count": 4,
   "id": "fc505eb2",
   "metadata": {},
   "outputs": [
    {
     "name": "stdout",
     "output_type": "stream",
     "text": [
      "Note: you may need to restart the kernel to use updated packages.\n"
     ]
    }
   ],
   "source": [
    "pip install -r ./requirements.txt -q"
   ]
  },
  {
   "cell_type": "code",
   "execution_count": 5,
   "id": "a157c245",
   "metadata": {},
   "outputs": [],
   "source": [
    "import os\n",
    "from dotenv import load_dotenv, find_dotenv"
   ]
  },
  {
   "cell_type": "code",
   "execution_count": 6,
   "id": "9f99d673",
   "metadata": {},
   "outputs": [
    {
     "data": {
      "text/plain": [
       "True"
      ]
     },
     "execution_count": 6,
     "metadata": {},
     "output_type": "execute_result"
    }
   ],
   "source": [
    "load_dotenv(find_dotenv(), override=True)"
   ]
  },
  {
   "cell_type": "markdown",
   "id": "d9b65560",
   "metadata": {},
   "source": [
    "# Resumen Básico"
   ]
  },
  {
   "cell_type": "code",
   "execution_count": null,
   "id": "548fb743",
   "metadata": {},
   "outputs": [],
   "source": [
    "texto = \"\"\"\n",
    "La inteligencia artificial (IA), en el contexto de las \n",
    "ciencias de la computación, es una disciplina y un conjunto \n",
    "de capacidades cognoscitivas e intelectuales expresadas por \n",
    "sistemas informáticos o combinaciones de algoritmos cuyo propósito \n",
    "es la creación de máquinas que imiten la inteligencia humana para \n",
    "realizar tareas, y que pueden mejorar conforme recopilan información\n",
    ". A diferencia de la inteligencia sintética, la inteligencia \n",
    "artificial no tiene como finalidad reemplazar a los humanos, \n",
    "sino mejorar significativamente las capacidades y contribuciones \n",
    "de estos. Se hizo presente poco después de la Segunda Guerra \n",
    "Mundial con el desarrollo de la «prueba de Turing», mientras \n",
    "que la locución fue acuñada en 1956 por el informático John \n",
    "McCarthy en la Conferencia de Dartmouth.\n",
    "\n",
    "En la actualidad, la inteligencia artificial abarca una \n",
    "gran variedad de subcampos. Éstos van desde áreas de propósito \n",
    "general, aprendizaje y percepción, a otras más específicas como \n",
    "el reconocimiento de voz, el juego de ajedrez, la demostración \n",
    "de teoremas matemáticos, la escritura de poesía y el diagnóstico \n",
    "de enfermedades. La inteligencia artificial sintetiza y automatiza \n",
    "tareas que en principio son intelectuales y, por lo tanto, es \n",
    "potencialmente relevante para cualquier ámbito de diversas \n",
    "actividades intelectuales humanas. En este sentido, es un campo \n",
    "genuinamente universal.3\n",
    "\n",
    "La arquitectura de las inteligencias artificiales y los procesos \n",
    "por los cuales aprenden, se mejoran y se implementan en algún área \n",
    "de interés varían según el enfoque de utilidad que se les quiera \n",
    "dar, pero de manera general, estos van desde la ejecución de \n",
    "sencillos algoritmos hasta la interconexión de complejas redes \n",
    "neuronales artificiales que intentan replicar los circuitos \n",
    "neuronales del cerebro humano y que aprenden mediante diferentes \n",
    "modelos de aprendizaje tales como el aprendizaje automático, el \n",
    "aprendizaje por refuerzo, el aprendizaje profundo o el aprendizaje \n",
    "supervisado.\n",
    "\n",
    "Por otro lado, el desarrollo y aplicación de la inteligencia \n",
    "artificial en muchos aspectos de la vida cotidiana también ha \n",
    "propiciado la creación de nuevos campos de estudio como la robótica \n",
    "y la ética de las máquinas que abordan aspectos relacionados con \n",
    "la ética en la inteligencia artificial y que se encargan de \n",
    "analizar cómo los avances en este tipo de tecnologías impactarían\n",
    "en diversos ámbitos de la vida, así como el manejo responsable y \n",
    "ético que se les debería dar a los mismos, además de establecer \n",
    "cuál debería ser la manera correcta de proceder de las máquinas y \n",
    "las reglas que deberían cumplir.\n",
    "\n",
    "En cuanto a su clasificación, tradicionalmente se divide a la \n",
    "inteligencia artificial en inteligencia artificial débil, la cual\n",
    "es la única que existe en la actualidad y que se ocupa de realizar \n",
    "tareas específicas, e inteligencia artificial fuerte, que sería \n",
    "una IA que excediese las capacidades humanas. Algunos expertos \n",
    "creen que si alguna vez se alcanza este nivel, se podría dar \n",
    "lugar a la aparición de una singularidad tecnológica, es decir, \n",
    "una entidad tecnológica superior que se mejoraría a sí misma \n",
    "constantemente, volviéndose incontrolable para los humanos, \n",
    "dando pie a teorías como el basilisco de Roko.\n",
    "\n",
    "Algunas de las inteligencias artificiales más conocidas y \n",
    "utilizadas en la actualidad alrededor del mundo incluyen \n",
    "inteligencia artificial en el campo de la salud, asistentes \n",
    "virtuales como Alexa, el asistente de Google o Siri, traductores \n",
    "automáticos como el traductor de Google y DeepL, sistemas de \n",
    "recomendación como el de la plataforma digital de YouTube, motores \n",
    "de ajedrez y otros juegos como Stockfish y AlphaZero, chatbots \n",
    "como ChatGPT, creadores de arte de inteligencia artificial como \n",
    "Midjourney, Dall-e y Stable Diffusion, e incluso la conducción de \n",
    "vehículos autónomos como Tesla Autopilot.\n",
    "\"\"\""
   ]
  },
  {
   "cell_type": "code",
   "execution_count": null,
   "id": "1745142e",
   "metadata": {},
   "outputs": [],
   "source": [
    "from langchain.chat_models import ChatOpenAI\n",
    "from langchain.schema import(\n",
    "    AIMessage,\n",
    "    HumanMessage,\n",
    "    SystemMessage\n",
    ")"
   ]
  },
  {
   "cell_type": "code",
   "execution_count": null,
   "id": "95935a75",
   "metadata": {},
   "outputs": [],
   "source": [
    "mensajes = [\n",
    "    SystemMessage(content='Usted es un \"copywriter\" experto con gran experiencia en resumir documentos'),\n",
    "    HumanMessage(content=f'haz un resumen breve y conciso del siguiente texto:\\n Texto: {texto}')\n",
    "]"
   ]
  },
  {
   "cell_type": "code",
   "execution_count": null,
   "id": "d6e41e57",
   "metadata": {},
   "outputs": [],
   "source": [
    "llm = ChatOpenAI(temperature=0, model_name='gpt-3.5-turbo')"
   ]
  },
  {
   "cell_type": "code",
   "execution_count": null,
   "id": "1faa5508",
   "metadata": {},
   "outputs": [],
   "source": [
    "llm.get_num_tokens(texto)"
   ]
  },
  {
   "cell_type": "code",
   "execution_count": null,
   "id": "ecf5146f",
   "metadata": {},
   "outputs": [],
   "source": [
    "resumen = llm(mensajes)"
   ]
  },
  {
   "cell_type": "code",
   "execution_count": null,
   "id": "dcaf43e8",
   "metadata": {},
   "outputs": [],
   "source": [
    "print(resumen)"
   ]
  },
  {
   "cell_type": "code",
   "execution_count": null,
   "id": "5a8ee794",
   "metadata": {},
   "outputs": [],
   "source": [
    "print(resumen.content)"
   ]
  },
  {
   "cell_type": "markdown",
   "id": "b84bd94a",
   "metadata": {},
   "source": [
    "## Usando Plantillas de Promts (Prompt Templates)"
   ]
  },
  {
   "cell_type": "code",
   "execution_count": null,
   "id": "2140a0a0",
   "metadata": {},
   "outputs": [],
   "source": [
    "from langchain import PromptTemplate\n",
    "from langchain.chains import LLMChain"
   ]
  },
  {
   "cell_type": "code",
   "execution_count": null,
   "id": "1193a963",
   "metadata": {},
   "outputs": [],
   "source": [
    "template = '''\n",
    "Escriba un resumen conciso y breve del siguiente texto:\n",
    "TEXTO: {texto}\n",
    "Traduzca el resumen al {idioma}.\n",
    "'''"
   ]
  },
  {
   "cell_type": "code",
   "execution_count": null,
   "id": "724bdcbc",
   "metadata": {},
   "outputs": [],
   "source": [
    "prompt = PromptTemplate(\n",
    "    input_variables=['texto', 'idioma'],\n",
    "    template=template\n",
    ")"
   ]
  },
  {
   "cell_type": "code",
   "execution_count": null,
   "id": "be75ef34",
   "metadata": {},
   "outputs": [],
   "source": [
    "llm.get_num_tokens(prompt.format(texto=texto, idioma='Inglés'))"
   ]
  },
  {
   "cell_type": "code",
   "execution_count": null,
   "id": "10e12c49",
   "metadata": {},
   "outputs": [],
   "source": [
    "chain = LLMChain(llm=llm, prompt=prompt)\n",
    "resumen = chain.run({'texto': texto, 'idioma':'Español'})"
   ]
  },
  {
   "cell_type": "code",
   "execution_count": null,
   "id": "9f7ceb2f",
   "metadata": {},
   "outputs": [],
   "source": [
    "print(resumen)"
   ]
  },
  {
   "cell_type": "markdown",
   "id": "89af3738",
   "metadata": {},
   "source": [
    "## Resumenes de documentos usando SuffDocumentChain"
   ]
  },
  {
   "cell_type": "code",
   "execution_count": null,
   "id": "463aaba9",
   "metadata": {},
   "outputs": [],
   "source": [
    "from langchain import PromptTemplate\n",
    "from langchain.chat_models import ChatOpenAI\n",
    "from langchain.chains.summarize import load_summarize_chain\n",
    "from langchain.docstore.document import Document"
   ]
  },
  {
   "cell_type": "code",
   "execution_count": null,
   "id": "63e4c655",
   "metadata": {},
   "outputs": [],
   "source": [
    "with open('minecraft.txt', encoding='utf-8') as f:\n",
    "    texto = f.read()\n",
    "\n",
    "print(texto)"
   ]
  },
  {
   "cell_type": "code",
   "execution_count": null,
   "id": "570b6a4f",
   "metadata": {},
   "outputs": [],
   "source": [
    "llm.get_num_tokens(texto)"
   ]
  },
  {
   "cell_type": "code",
   "execution_count": null,
   "id": "47baf449",
   "metadata": {},
   "outputs": [],
   "source": [
    "docs = [Document(page_content=texto)]\n",
    "llm = ChatOpenAI(temperature=0, model_name='gpt-4')"
   ]
  },
  {
   "cell_type": "code",
   "execution_count": null,
   "id": "9146a808",
   "metadata": {},
   "outputs": [],
   "source": [
    "template = '''\n",
    "Escriba un resumen conciso y breve del siguiente texto:\n",
    "TEXTO: {text}.\n",
    "'''\n",
    "prompt = PromptTemplate(\n",
    "    input_variables=['text'],\n",
    "    template=template\n",
    ")"
   ]
  },
  {
   "cell_type": "code",
   "execution_count": null,
   "id": "8df96789",
   "metadata": {},
   "outputs": [],
   "source": [
    "chain = load_summarize_chain(\n",
    "    llm,\n",
    "    chain_type='stuff',\n",
    "    prompt=prompt,\n",
    "    verbose=False\n",
    ")\n",
    "resumen = chain.run(docs)"
   ]
  },
  {
   "cell_type": "code",
   "execution_count": null,
   "id": "ae7bb458",
   "metadata": {},
   "outputs": [],
   "source": [
    "print(resumen)"
   ]
  },
  {
   "cell_type": "markdown",
   "id": "8538b4b1",
   "metadata": {},
   "source": [
    "## Resume Documentos largos usando map_reduce"
   ]
  },
  {
   "cell_type": "code",
   "execution_count": null,
   "id": "2aa353ee",
   "metadata": {},
   "outputs": [],
   "source": [
    "from langchain import PromptTemplate\n",
    "from langchain.chat_models import ChatOpenAI\n",
    "from langchain.chains.summarize import load_summarize_chain\n",
    "from langchain.text_splitter import RecursiveCharacterTextSplitter"
   ]
  },
  {
   "cell_type": "code",
   "execution_count": null,
   "id": "0f665775",
   "metadata": {},
   "outputs": [],
   "source": [
    "with open('ia.txt', encoding='utf-8') as f:\n",
    "    texto = f.read()\n",
    "\n",
    "llm = ChatOpenAI(temperature=0, model_name='gpt-3.5-turbo')"
   ]
  },
  {
   "cell_type": "code",
   "execution_count": null,
   "id": "16f2a672",
   "metadata": {},
   "outputs": [],
   "source": [
    "llm.get_num_tokens(texto)"
   ]
  },
  {
   "cell_type": "code",
   "execution_count": null,
   "id": "c8ab526e",
   "metadata": {},
   "outputs": [],
   "source": [
    "len(texto)"
   ]
  },
  {
   "cell_type": "code",
   "execution_count": null,
   "id": "9275a3ff",
   "metadata": {},
   "outputs": [],
   "source": [
    "text_splitter = RecursiveCharacterTextSplitter(chunk_size=12000, chunk_overlap=100)\n",
    "chunks = text_splitter.create_documents([texto])"
   ]
  },
  {
   "cell_type": "code",
   "execution_count": null,
   "id": "20c36c83",
   "metadata": {},
   "outputs": [],
   "source": [
    "len(chunks)"
   ]
  },
  {
   "cell_type": "code",
   "execution_count": null,
   "id": "b835b1ed",
   "metadata": {},
   "outputs": [],
   "source": [
    "print(chunks[4].page_content)"
   ]
  },
  {
   "cell_type": "code",
   "execution_count": null,
   "id": "3c579cd6",
   "metadata": {},
   "outputs": [],
   "source": [
    "for i in range (0, 5):\n",
    "    print(llm.get_num_tokens(chunks[i].page_content))"
   ]
  },
  {
   "cell_type": "code",
   "execution_count": null,
   "id": "0fb30ca0",
   "metadata": {},
   "outputs": [],
   "source": [
    "chain = load_summarize_chain(\n",
    "    llm,\n",
    "    chain_type='map_reduce',\n",
    "    verbose=False\n",
    ")\n",
    "resumen = chain.run(chunks)"
   ]
  },
  {
   "cell_type": "code",
   "execution_count": null,
   "id": "c74bb642",
   "metadata": {},
   "outputs": [],
   "source": [
    "print(resumen)"
   ]
  },
  {
   "cell_type": "markdown",
   "id": "0e85734b",
   "metadata": {},
   "source": [
    "##  map_reduce con Prompts Personalizados"
   ]
  },
  {
   "cell_type": "code",
   "execution_count": null,
   "id": "b242b9c7",
   "metadata": {},
   "outputs": [],
   "source": [
    "map_prompt = '''\n",
    "Escriba un resumen conciso y breve del siguiente texto:\n",
    "Que el resumen esté en español.\n",
    "TEXTO: {text}\n",
    "'''\n",
    "map_prompt_template = PromptTemplate(\n",
    "    input_variables=['text'],\n",
    "    template=map_prompt\n",
    ")"
   ]
  },
  {
   "cell_type": "code",
   "execution_count": null,
   "id": "8983d6c1",
   "metadata": {},
   "outputs": [],
   "source": [
    "prompt_combinado = '''\n",
    "Escriba un resumen conciso del siguiente texto que abarque los puntos claves.\n",
    "Añade un título al resumen.\n",
    "Comience su resumen con un PÁRRAFO DE INTRODUCCIÓN que ofrezca una visión general del tema SEGUIDO\n",
    "por los PUNTOS tipo \"BULLET Point\" si es posible Y termine el resumen con una CONCLUSIÓN.\n",
    "Texto: {text}\n",
    "'''\n",
    "prompt_template_combinado = PromptTemplate(template=prompt_combinado, input_variables=['text'])"
   ]
  },
  {
   "cell_type": "code",
   "execution_count": null,
   "id": "010d453b",
   "metadata": {},
   "outputs": [],
   "source": [
    "llm = ChatOpenAI(temperature=0, model_name='gpt-4')"
   ]
  },
  {
   "cell_type": "code",
   "execution_count": null,
   "id": "ac837445",
   "metadata": {},
   "outputs": [],
   "source": [
    "cadena_resumen = load_summarize_chain(\n",
    "    llm=llm,\n",
    "    chain_type='map_reduce',\n",
    "    map_prompt=map_prompt_template,\n",
    "    combine_prompt=prompt_template_combinado,\n",
    "    verbose=False\n",
    ")\n",
    "resumen = cadena_resumen.run(chunks)"
   ]
  },
  {
   "cell_type": "code",
   "execution_count": null,
   "id": "ae43d7df",
   "metadata": {},
   "outputs": [],
   "source": [
    "print(resumen)"
   ]
  },
  {
   "cell_type": "markdown",
   "id": "55e3d959",
   "metadata": {},
   "source": [
    "### Resumenes usando refine Chain "
   ]
  },
  {
   "cell_type": "code",
   "execution_count": null,
   "id": "00607f61",
   "metadata": {},
   "outputs": [],
   "source": [
    "pip install unstructured -q"
   ]
  },
  {
   "cell_type": "code",
   "execution_count": null,
   "id": "1e9f8381",
   "metadata": {},
   "outputs": [],
   "source": [
    "pip install pdf2image"
   ]
  },
  {
   "cell_type": "code",
   "execution_count": 1,
   "id": "0a3f4538",
   "metadata": {},
   "outputs": [],
   "source": [
    "from langchain.chat_models import ChatOpenAI\n",
    "from langchain import PromptTemplate\n",
    "from langchain.chains.summarize import load_summarize_chain\n",
    "from langchain.text_splitter import RecursiveCharacterTextSplitter\n",
    "from langchain.document_loaders import UnstructuredPDFLoader"
   ]
  },
  {
   "cell_type": "code",
   "execution_count": 2,
   "id": "ba774ad5",
   "metadata": {},
   "outputs": [
    {
     "data": {
      "text/plain": [
       "True"
      ]
     },
     "execution_count": 2,
     "metadata": {},
     "output_type": "execute_result"
    }
   ],
   "source": [
    "import os\n",
    "from dotenv import load_dotenv, find_dotenv\n",
    "load_dotenv(find_dotenv(), override=True)"
   ]
  },
  {
   "cell_type": "code",
   "execution_count": 3,
   "id": "59a95dca",
   "metadata": {},
   "outputs": [],
   "source": [
    "loader = UnstructuredPDFLoader('ia.pdf')\n",
    "data = loader.load()"
   ]
  },
  {
   "cell_type": "code",
   "execution_count": 6,
   "id": "6f69e845",
   "metadata": {},
   "outputs": [
    {
     "name": "stdout",
     "output_type": "stream",
     "text": [
      "Inteligencia artificial\n",
      "\n",
      "La inteligencia artificial (IA), en el contexto de las ciencias de la computación, es una disciplina y un conjunto de capacidades cognoscitivas e intelectuales expresadas por sistemas informáticos o combinaciones de algoritmos cuyo propósito es la creación de máquinas que imiten la inteligencia humana para realizar tareas, y que pueden mejorar conforme recopilan información.12 A diferencia de la inteligencia sintética, la inteligencia artificial no tiene como finalidad reemplazar a los humanos, sino mejorar significativamente las capacidades y contribuciones de estos. Se hizo presente poco después de la Segunda Guerra Mundial con el desarrollo de la «prueba de Turing», mientras que la locución fue acuñada en 1956 por el informático John McCarthy en la Conferencia de Dartmouth.\n",
      "\n",
      "En la actualidad, la inteligencia artificial abarca una gran variedad de subcampos. Éstos van desde áreas de propósito general, aprendizaje y percepción, a otras más específicas como el reconocimiento de voz, el juego de ajedrez, la demostración de teoremas matemáticos, la escritura de poesía y el diagnóstico de enfermedades. La inteligencia artificial sintetiza y automatiza tareas que en principio son intelectuales y, por lo tanto, es potencialmente relevante para cualquier ámbito de diversas actividades intelectuales humanas. En este sentido, es un campo genuinamente universal.3\n",
      "\n",
      "La arquitectura de las inteligencias artificiales y los procesos por los cuales aprenden, se mejoran y se implementan en algún área de interés varían según el enfoque de utilidad que se les quiera dar, pero de manera general, estos van desde la ejecución de sencillos algoritmos hasta la interconexión de complejas redes neuronales artificiales que intentan replicar los circuitos neuronales del cerebro humano y que aprenden mediante diferentes modelos de aprendizaje tales como el aprendizaje automático, el aprendizaje por refuerzo, el aprendizaje profundo o el aprendizaje supervisado.4\n",
      "\n",
      "Por otro lado, el desarrollo y aplicación de la inteligencia artificial en muchos aspectos de la vida cotidiana también ha propiciado la creación de nuevos campos de estudio como la roboética y la ética de las máquinas que abordan aspectos relacionados con la ética en la inteligencia artificial y que se encargan de analizar cómo los avances en este tipo de tecnologías impactarían en diversos ámbitos de la vida, así como el manejo responsable y ético que se les debería dar a los mismos, además de establecer cuál debería ser la manera correcta de proceder de las máquinas y las reglas que deberían cumplir.5\n",
      "\n",
      "En cuanto a su clasificación, tradicionalmente se divide a la inteligencia artificial en inteligencia artificial débil, la cual es la única que existe en la actualidad y que se ocupa de realizar tareas específicas, e inteligencia artificial fuerte, que sería una IA que excediese las capacidades humanas. Algunos expertos creen que si alguna vez se alcanza este nivel, se podría dar lugar a la aparición de\n",
      "\n",
      "una singularidad tecnológica, es decir, una entidad tecnológica superior que se mejoraría a sí misma constantemente, volviéndose incontrolable para los humanos, dando pie a teorías como el basilisco de Roko.6\n",
      "\n",
      "Algunas de las inteligencias artificiales más conocidas y utilizadas en la actualidad alrededor del mundo incluyen inteligencia artificial en el campo de la salud, asistentes virtuales como Alexa, el asistente de Google o Siri, traductores automáticos como el traductor de Google y DeepL, sistemas de recomendación como el de la plataforma digital de YouTube, motores de ajedrez y otros juegos como Stockfish y AlphaZero, chatbots como ChatGPT, creadores de arte de inteligencia artificial como Midjourney, Dall-e y Stable Diffusion, e incluso la conducción de vehículos autónomos como Tesla Autopilot.7\n",
      "\n",
      "En cuanto a la definición de la expresión\n",
      "\n",
      "En 2019 la Comisión Mundial de Ética del Conocimiento Científico y la Tecnología (COMEST) de la UNESCO definió la inteligencia artificial como un campo que implica máquinas capaces de imitar determinadas funcionalidades de la inteligencia humana, incluidas características como la percepción, el aprendizaje, el razonamiento, la resolución de problemas, la interacción lingüística e incluso la producción de trabajos creativos.\n",
      "\n",
      "Coloquialmente, la locución «inteligencia artificial» se aplica cuando una máquina imita las funciones «cognitivas» que los humanos asocian como competencias humanas, por ejemplo: «percibir», «razonar», «aprender» y «resolver problemas».8 Andreas Kaplan y Michael Haenlein definen la inteligencia artificial como «la capacidad de un sistema para interpretar correctamente datos externos, y así aprender y emplear esos conocimientos para lograr tareas y metas concretas a través de la adaptación flexible».9 A medida que las máquinas se vuelven cada vez más capaces, se elimina de la definición la tecnología que alguna vez se pensó que requería de inteligencia.\n",
      "\n",
      "Por ejemplo, el reconocimiento óptico de caracteres ya no se percibe como un ejemplo de la «inteligencia artificial» habiéndose convertido en una tecnología común.10 Avances tecnológicos todavía clasificados como inteligencia artificial son los sistemas de conducción autónomos o los capaces de jugar ajedrez o Go.11\n",
      "\n",
      "La inteligencia artificial es una nueva forma de resolver problemas dentro de los cuales se incluyen los sistemas expertos, el manejo y control de robots y los procesadores, que intenta integrar el conocimiento en tales sistemas, en otras palabras, un sistema inteligente capaz de escribir su propio programa. Un sistema experto definido como una estructura de programación capaz de almacenar y utilizar un conocimiento sobre un área determinada que se traduce en su capacidad\n",
      "\n",
      "de aprendizaje. 12 De igual manera se puede considerar a la IA como la capacidad de las máquinas para usar algoritmos, aprender de los datos y utilizar lo aprendido en la toma de decisiones tal y como lo haría un ser humano,13.\n",
      "\n",
      "Según Takeyas (2007) la IA es una rama de las ciencias computacionales encargada de estudiar modelos de cómputo capaces de realizar actividades propias de los seres humanos con base en dos de sus características primordiales: el razonamiento y la conducta.14\n",
      "\n",
      "En 1956, John McCarthy acuñó la expresión «inteligencia artificial», y la definió como «la ciencia e ingenio de hacer máquinas inteligentes, especialmente programas de cómputo inteligentes».15\n",
      "\n",
      "También existen distintos tipos de percepciones y acciones, que pueden ser obtenidas y producidas, respectivamente, por sensores físicos y sensores mecánicos en máquinas, pulsos eléctricos u ópticos en computadoras, tanto como por entradas y salidas de bits de un software y su entorno software.\n",
      "\n",
      "Varios ejemplos se encuentran en el área de control de sistemas, planificación automática, la capacidad de responder a diagnósticos y a consultas de los consumidores, reconocimiento de escritura, reconocimiento del habla y reconocimiento de patrones. Los sistemas de IA actualmente son parte de la rutina en campos como economía, medicina, ingeniería, el transporte, las comunicaciones y la milicia, y se ha usado en gran variedad de programas informáticos, juegos de estrategia, como ajedrez de computador, y otros videojuegos.\n",
      "\n",
      "Tipos\n",
      "\n",
      "Stuart J. Russell y Peter Norvig diferencian varios tipos de inteligencia artificial:16\n",
      "\n",
      "Los sistemas que piensan como humanos: Estos sistemas tratan de emular el pensamiento humano; por ejemplo, las redes neuronales artificiales. La automatización de actividades que vinculamos con procesos de pensamiento humano, actividades como la toma de decisiones, resolución de problemas y aprendizaje.17\n",
      "\n",
      "Los sistemas que actúan como humanos: Estos sistemas tratan de actuar como humanos; es decir, imitan el comportamiento humano; por ejemplo, la robótica (El estudio de cómo lograr que los computadores realicen tareas que, por el momento, los humanos hacen mejor).18\n",
      "\n",
      "Los sistemas que piensan racionalmente: Es decir, con lógica (idealmente), tratan de imitar el pensamiento racional del ser humano; por ejemplo, los sistemas expertos, (el estudio de los cálculos que hacen posible percibir, razonar y actuar).19\n",
      "\n",
      "Los sistemas que actúan racionalmente: Tratan de emular de forma racional el comportamiento humano; por ejemplo, los agentes inteligentes, que está relacionado con conductas inteligentes en artefactos.20\n",
      "\n",
      "Escuelas de pensamiento\n",
      "\n",
      "La IA se divide en dos escuelas de pensamiento:\n",
      "\n",
      "La inteligencia artificial convencional.\n",
      "\n",
      "La inteligencia computacional.\n",
      "\n",
      "Inteligencia artificial convencional\n",
      "\n",
      "Se conoce también como IA simbólica-deductiva. Está basada en el análisis formal y estadístico del comportamiento humano ante diferentes problemas:\n",
      "\n",
      "Razonamiento basado en casos: Ayuda a tomar decisiones mientras se resuelven ciertos problemas concretos y, aparte de que son muy importantes, requieren de un buen funcionamiento.\n",
      "\n",
      "Sistemas expertos: Infieren una solución a través del conocimiento previo del contexto en que se aplica y utiliza ciertas reglas o relaciones.21\n",
      "\n",
      "Redes bayesianas: Propone soluciones mediante inferencia probabilística.22\n",
      "\n",
      "Inteligencia artificial basada en comportamientos: Esta inteligencia contiene autonomía, es decir, puede auto-regularse y controlarse para mejorar.\n",
      "\n",
      "Smart process management: Facilita la toma de decisiones complejas, proponiendo una solución a un determinado problema al igual que lo haría un especialista en dicha actividad.\n",
      "\n",
      "Inteligencia artificial computacional\n",
      "\n",
      "Artículo principal: Inteligencia computacional\n",
      "\n",
      "La inteligencia computacional (también conocida como IA subsimbólica-inductiva) implica desarrollo o aprendizaje interactivo (por ejemplo, modificaciones interactivas de los parámetros en sistemas de conexiones). El aprendizaje se realiza basándose en datos empíricos.\n",
      "\n",
      "La inteligencia computacional tiene una doble finalidad. Por un lado, su objetivo científico es comprender los principios que posibilitan el comportamiento inteligente (ya sea en sistemas naturales o artificiales) y, por otro, su objetivo tecnológico consiste en especificar los métodos para diseñar sistemas inteligentes.23\n",
      "\n",
      "Historia\n",
      "\n",
      "Artículo principal: Historia de la inteligencia artificial\n",
      "\n",
      "La expresión «inteligencia artificial» fue acuñada formalmente en 1956 durante la Conferencia de Dartmouth, pero para entonces ya se había estado trabajando en ello durante cinco años en los cuales se había propuesto muchas definiciones distintas que en ningún caso habían logrado ser aceptadas totalmente por la comunidad investigadora. La IA es una de las disciplinas más recientes junto con la genética moderna.\n",
      "\n",
      "Las ideas más básicas se remontan a los griegos, antes de Cristo. Aristóteles (384-322 a. C.) fue el primero en describir un conjunto de reglas que describen una parte del funcionamiento de la mente para obtener conclusiones racionales, y Ctesibio de Alejandría (250 a. C.) construyó la primera máquina autocontrolada, un regulador del flujo de agua (racional pero sin razonamiento).\n",
      "\n",
      "En 1315 Ramon Llull en su libro Ars magna tuvo la idea de que el razonamiento podía ser efectuado de manera artificial.\n",
      "\n",
      "En 1840 Ada Lovelace previó la capacidad de las máquinas para ir más allá de los simples cálculos y aportó una primera idea de lo que sería el software.\n",
      "\n",
      "Leonardo Torres Quevedo(1852-1936) es considerado como uno de los padres de la inteligencia artificial y de la Automática.\n",
      "\n",
      "En 1936 Alan Turing diseña formalmente una Máquina universal que demuestra la viabilidad de un dispositivo físico para implementar cualquier cómputo formalmente definido.\n",
      "\n",
      "En 1943 Warren McCulloch y Walter Pitts presentaron su modelo de neuronas artificiales, el cual se considera el primer trabajo del campo, aun cuando todavía no existía el término. Los primeros avances importantes comenzaron a principios del año 1950 con el trabajo de Alan Turing, a partir de lo cual la ciencia ha pasado por diversas situaciones.\n",
      "\n",
      "En 1955 Herbert Simon, Allen Newell y Joseph Carl Shaw, desarrollan el primer lenguaje de programación orientado a la resolución de problemas, el IPL-11. Un año más tarde desarrollan el LogicTheorist, el cual era capaz de demostrar teoremas matemáticos.\n",
      "\n",
      "En 1956 fue ideada la expresión «inteligencia artificial» por John McCarthy, Marvin Minsky y Claude Shannon en la Conferencia de Dartmouth, un congreso en el que se hicieron previsiones triunfalistas a diez años que jamás se cumplieron, lo que provocó el abandono casi total de las investigaciones durante quince años.\n",
      "\n",
      "En 1957 Newell y Simon continúan su trabajo con el desarrollo del General Problem Solver (GPS). GPS era un sistema orientado a la resolución de problemas.\n",
      "\n",
      "En 1958 John McCarthy desarrolla en el Instituto Tecnológico de Massachusetts (MIT) el LISP. Su nombre se deriva de LISt Processor. LISP fue el primer lenguaje para procesamiento simbólico.\n",
      "\n",
      "En 1959 Rosenblatt introduce el «perceptrón».\n",
      "\n",
      "A finales de la década de 1950 y comienzos de la de 1960 Robert K. Lindsay desarrolla «Sad Sam», un programa para la lectura de oraciones en inglés y la inferencia de conclusiones a partir de su interpretación.\n",
      "\n",
      "En 1963 Quillian desarrolla las redes semánticas como modelo de representación del conocimiento.\n",
      "\n",
      "En 1964 Bertrand Raphael construye el sistema SIR (Semantic Information Retrieval) el cual era capaz de inferir conocimiento basado en información que se le suministra. Bobrow desarrolla STUDENT.\n",
      "\n",
      "A mediados de los años 60, aparecen los sistemas expertos, que predicen la probabilidad de una solución bajo un set de condiciones. Por ejemplo, DENDRAL, iniciado en 1965 por Buchanan, Feigenbaum y Lederberg, el primer Sistema Experto, que asistía a químicos en estructuras químicas complejas, MACSYMA, que asistía a ingenieros y científicos en la solución de ecuaciones matemáticas complejas.\n",
      "\n",
      "Posteriormente entre los años 1968-1970 Terry Winograd desarrolló el sistema SHRDLU, que permitía interrogar y dar órdenes a un robot que se movía dentro de un mundo de bloques.\n",
      "\n",
      "En 1968 Marvin Minsky publica Semantic Information Processing.\n",
      "\n",
      "En 1968 Seymour Papert, Danny Bobrow y Wally Feurzeig desarrollan el lenguaje de programación LOGO.\n",
      "\n",
      "En 1969 Alan Kay desarrolla el lenguaje Smalltalk en Xerox PARC y se publica en 1980.\n",
      "\n",
      "En 1973 Alain Colmenauer y su equipo de investigación en la Universidad de Aix-Marseille crean PROLOG (del francés PROgrammation en LOGique) un lenguaje de programación ampliamente utilizado en IA.\n",
      "\n",
      "En 1973 Shank y Abelson desarrollan los guiones, o scripts, pilares de muchas técnicas actuales en inteligencia artificial y la informática en general.\n",
      "\n",
      "En 1974 Edward Shortliffe escribe su tesis con MYCIN, uno de los Sistemas Expertos más conocidos, que asistió a médicos en el diagnóstico y tratamiento de infecciones en la sangre.\n",
      "\n",
      "En las décadas de 1970 y 1980, creció el uso de sistemas expertos, como MYCIN: R1/XCON, ABRL, PIP, PUFF, CASNET, INTERNIST/CADUCEUS, etc. Algunos permanecen hasta hoy (Shells) como EMYCIN, EXPERT, OPSS.\n",
      "\n",
      "En 1981 Kazuhiro Fuchi anuncia el proyecto japonés de la quinta generación de computadoras.\n",
      "\n",
      "En 1986 McClelland y Rumelhart publican Parallel Distributed Processing (Redes Neuronales).\n",
      "\n",
      "En 1988 se establecen los lenguajes Orientados a Objetos.\n",
      "\n",
      "En 1997 Gari Kaspárov, campeón mundial de ajedrez, pierde ante la computadora autónoma Deep Blue.\n",
      "\n",
      "En 2006 se celebró el aniversario con el Congreso en español 50 años de Inteligencia Artificial - Campus Multidisciplinar en Percepción e Inteligencia 2006.\n",
      "\n",
      "En 2009 ya había en desarrollo sistemas inteligentes terapéuticos que permiten detectar emociones para poder interactuar con niños autistas.\n",
      "\n",
      "En 2011 IBM desarrolló un superordenador llamado Watson, el cual ganó una ronda de tres juegos seguidos de Jeopardy!, venciendo a sus dos máximos campeones, y ganando un premio de 1 millón de dólares que IBM luego donó a obras de caridad.24\n",
      "\n",
      "En 2016, un programa informático ganó cinco a cero al triple campeón de Europa de Go.25\n",
      "\n",
      "En 2016, el entonces presidente Obama habla sobre el futuro de la inteligencia artificial y la tecnología.26\n",
      "\n",
      "Existen personas que al dialogar sin saberlo con un chatbot no se percatan de hablar con un programa, de modo tal que se cumple la prueba de Turing como cuando se formuló: «Existirá inteligencia artificial cuando no seamos capaces de distinguir entre un ser humano y un programa informático en una conversación a ciegas».\n",
      "\n",
      "En 2017 AlphaGo desarrollado por DeepMind derrota 4-1 en una competencia de Go al campeón mundial Lee Sedol. Este suceso fue muy mediático y marcó un hito en la historia de este juego.27 A finales de ese mismo año, Stockfish, el motor de ajedrez considerado el mejor del mundo con 3 400 puntos ELO, fue abrumadoramente derrotado por AlphaZero con solo conocer las reglas del juego y tras solo 4 horas de entrenamiento jugando contra sí mismo.28\n",
      "\n",
      "Como anécdota, muchos de los investigadores sobre IA sostienen que «la inteligencia es un programa capaz de ser ejecutado independientemente de la máquina que lo ejecute, computador o cerebro».\n",
      "\n",
      "En 2018, se lanza el primer televisor con inteligencia artificial por parte de LG Electronics con una plataforma denominada ThinQ.29\n",
      "\n",
      "En 2019, Google presentó su Doodle en que, con ayuda de la inteligencia artificial, hace un homenaje a Johann Sebastian Bach, en el que, añadiendo una simple melodía de dos compases la IA crea el resto.\n",
      "\n",
      "En 2020, la OECD (Organización para la Cooperación y el Desarrollo Económico) publica el documento de trabajo intitulado Hola, mundo: La inteligencia artificial y su uso en el sector público, dirigido a funcionarios de gobierno con el afán de resaltar la importancia de la IA y de sus aplicaciones prácticas en el ámbito gubernamental.30\n",
      "\n",
      "Al final del año 2022, se lanzó ChatGPT, una inteligencia artificial generativa capaz de escribir textos y responder preguntas en muchos idiomas. Dado que la calidad de las respuestas recordaba inicialmente al nivel humano, se generó un entusiasmo mundial por la IA31 y ChatGPT alcanzó más de 100 millones de usuarios dos meses después de su lanzamiento.32 Más tarde, los expertos notaron que ChatGPT proporciona información errónea en áreas donde no tiene conocimiento (\"alucinaciones de datos\"), lo que a primera vista parece creíble debido a su perfecta redacción.33\n",
      "\n",
      "En 2023, las fotos generadas por IA alcanzaron un nivel de realismo que las hacía confundirse con fotos reales. Como resultado, hubo una ola de \"fotos\" generadas por IA que muchos espectadores\n",
      "\n",
      "creyeron que eran reales. Una imagen generada por Midjourney se destacó, mostrando al Papa Francisco con un elegante abrigo blanco de invierno.34\n",
      "\n",
      "Implicaciones sociales, éticas y filosóficas\n",
      "\n",
      "Artículo principal: Ética en la inteligencia artificial\n",
      "\n",
      "Ante la posibilidad de crear máquinas dotadas de inteligencia, se volvió importante preocuparse por la cuestión ética de las máquinas para tratar de garantizar que no se produzca ningún daño a los seres humanos, a otros seres vivos e incluso a las mismas máquinas según algunas corrientes de pensamiento35. Es así como surgió un amplio campo de estudios conocido como ética de la inteligencia artificial de relativamente reciente aparición y que generalmente se divide en dos ramas, la roboética, encargada de estudiar las acciones de los seres humanos hacia los robots, y la ética de las máquinas encargada del estudio del comportamiento de los robots para con los seres humanos.\n",
      "\n",
      "El acelerado desarrollo tecnológico y científico de la inteligencia artificial que se ha producido en el siglo xxi supone también un importante impacto en otros campos. En la economía mundial durante la segunda revolución industrial se vivió un fenómeno conocido como desempleo tecnológico, que se refiere a cuando la automatización industrial de los procesos de producción a gran escala reemplaza la mano de obra humana. Con la inteligencia artificial podría darse un fenómeno parecido, especialmente en los procesos en los que interviene la inteligencia humana, tal como se ilustraba en el cuento ¡Cómo se divertían! de Isaac Asimov, en el que su autor vislumbra algunos de los efectos que tendría la interacción de máquinas inteligentes especializadas en pedagogía infantil, en lugar de profesores humanos, con los niños en etapa escolar. Este mismo escritor diseñó lo que hoy se conocen como las tres leyes de la robótica, aparecidas por primera vez en el relato Círculo vicioso (Runaround) de 1942, donde establecía lo siguiente:\n",
      "\n",
      "Primera Ley\n",
      "\n",
      "Un robot no hará daño a un ser humano ni, permitirá que un ser humano sufra daño.\n",
      "\n",
      "Segunda Ley\n",
      "\n",
      "Un robot debe cumplir las órdenes dadas por los seres humanos, a excepción de aquellas que entren en conflicto con la primera ley.\n",
      "\n",
      "Tercera Ley\n",
      "\n",
      "Un robot debe proteger su propia existencia en la medida en que esta protección no entre en conflicto con la primera o con la segunda ley.36\n",
      "\n",
      "Otras obras de ciencia ficción más recientes también exploran algunas cuestiones éticas y filosóficas con respecto a la Inteligencia artificial fuerte, como las películas Yo, robot o A.I. Inteligencia Artificial, en los que se tratan temas tales como la autoconsciencia o el origen de una conciencia emergente de los robots inteligentes o sistemas computacionales, o si éstos podrían\n",
      "\n",
      "considerarse sujetos de derecho debido a sus características casi humanas relacionadas con la sintiencia, como el poder ser capaces de sentir dolor y emociones o hasta qué punto obedecerían al objetivo de su programación, y en caso de no ser así, si podrían ejercer libre albedrío. Esto último es el tema central de la famosa saga de Terminator, en la que las máquinas superan a la humanidad y deciden aniquilarla, historia que, según varios especialistas, podría no limitarse a la ciencia ficción y ser una posibilidad real en una sociedad posthumana que dependiese de la tecnología y las máquinas completamente.3738\n",
      "\n",
      "Regulación\n",
      "\n",
      "Artículo principal: Regulación de la inteligencia artificial\n",
      "\n",
      "El Derecho39 desempeña un papel fundamental en el uso y desarrollo de la IA. Las leyes establecen reglas y normas de comportamiento para asegurar el bienestar social y proteger los derechos individuales, y pueden ayudarnos a obtener los beneficios de esta tecnología mientras minimizamos sus riesgos, que son significativos. De momento no hay normas jurídicas que regulen directamente a la IA. Pero con fecha 21 de abril de 2021, la Comisión Europea ha presentado una propuesta de Reglamento europeo para la regulación armonizada de la inteligencia artificial (IA) en la UE. Su título exacto es Propuesta de Reglamento del Parlamento Europeo y del Consejo por el que se establecen normas armonizadas en materia de inteligencia artificial –Ley de Inteligencia Artificial– y se modifican otros actos legislativos de la Unión.\n",
      "\n",
      "En marzo de 2023, cientos de empresarios como Elon Musk, Steve Wozniak (cofundador de Apple) o los presidentes de numerosas compañías tecnológicas; intelectuales como Yuval Noah Harari y cientos de académicos e investigadores especializados en inteligencia artificial firmaron una carta abierta avisando del peligro de la falta de regulación de la IA, poniendo el foco sobre OpenAI, la empresa que ha desarrollado ChatGPT. Pidieron una pausa de al menos 6 meses para sus experimentos más potentes, hasta que el mundo logre un consenso internacional para que estos sistemas «sean más precisos, seguros, interpretables, transparentes, robustos, neutrales, confiables y leales».40\n",
      "\n",
      "Dos meses más tarde, en mayo, 350 ejecutivos de las principales empresas desarrolladoras de IA, académicos e investigadores expertos firmaron un nuevo manifiesto alertando de que la IA avanzada sin regular representa un peligro de extinción para la humanidad: «Mitigar el riesgo de extinción de la IA debería ser una prioridad mundial junto a otros riesgos a escala social como las pandemias y la guerra nuclear»41 Entre los impulsores de esta petición está toda la plana mayor de OpenAI, el jefe de Tecnología de Microsoft, el líder de Google DeepMind con 38 ejecutivos, investigadores o profesores de universidad relacionados con la empresa, y representantes de desarrolladoras más pequeñas como Anthropic, Stability AI o Inflection AI.42\n",
      "\n",
      "Objetivos\n",
      "\n",
      "Razonamiento y resolución de problemas\n",
      "\n",
      "Los primeros investigadores desarrollaron algoritmos que imitaban el razonamiento paso a paso que los humanos usan cuando resuelven acertijos o hacen deducciones lógicas.43 A finales de la década de 1981-1990, la investigación de la inteligencia artificial había desarrollado métodos para tratar con información incierta o incompleta, empleando conceptos de probabilidad y economía.44\n",
      "\n",
      "Estos algoritmos demostraron ser insuficientes para resolver grandes problemas de razonamiento porque experimentaron una «explosión combinatoria»: se volvieron exponencialmente más lentos a medida que los problemas crecían.45 De esta manera, se concluyó que los seres humanos rara vez usan la deducción paso a paso que la investigación temprana de la inteligencia artificial seguía; en cambio, resuelven la mayoría de sus problemas utilizando juicios rápidos e intuitivos.46\n",
      "\n",
      "Representación del conocimiento\n",
      "\n",
      "Artículo principal: Representación del conocimiento\n",
      "\n",
      "La representación del conocimiento47 y la ingeniería del conocimiento48 son fundamentales para la investigación clásica de la inteligencia artificial. Algunos «sistemas expertos» intentan recopilar el conocimiento que poseen los expertos en algún ámbito concreto. Además, otros proyectos tratan de reunir el «conocimiento de sentido común» conocido por una persona promedio en una base de datos que contiene un amplio conocimiento sobre el mundo.\n",
      "\n",
      "Entre los temas que contendría una base de conocimiento de sentido común están: objetos, propiedades, categorías y relaciones entre objetos,49 situaciones, eventos, estados y tiempo50 causas y efectos; Poole, Mackworth y Goebel, 1998, pp. 335–337 y el conocimiento sobre el conocimiento (lo que sabemos sobre lo que saben otras personas)51 entre otros.\n",
      "\n",
      "Planificación\n",
      "\n",
      "Otro objetivo de la inteligencia artificial consiste en poder establecer metas y finalmente alcanzarlas.52 Para ello necesitan una forma de visualizar el futuro, una representación del estado del mundo y poder hacer predicciones sobre cómo sus acciones lo cambiarán, con tal de poder tomar decisiones que maximicen la utilidad (o el «valor») de las opciones disponibles. Russell y Norvig, 2003, pp. 600–604\n",
      "\n",
      "En los problemas clásicos de planificación, el agente puede asumir que es el único sistema que actúa en el mundo, lo que le permite estar seguro de las consecuencias de sus acciones.53 Sin embargo, si el agente no es el único actor, entonces se requiere que este pueda razonar bajo incertidumbre. Esto requiere un agente que no solo pueda evaluar su entorno y hacer predicciones, sino también evaluar sus predicciones y adaptarse en función de su evaluación.\n",
      "\n",
      "Russell y Norvig, 2003, pp. 430–449 La planificación de múltiples agentes utiliza la cooperación y la competencia de muchos sistemas para lograr un objetivo determinado. El comportamiento emergente como este es utilizado por algoritmos evolutivos e inteligencia de enjambre. Russell y Norvig, 2003, pp. 449–455\n",
      "\n",
      "Aprendizaje\n",
      "\n",
      "El aprendizaje automático es un concepto fundamental de la investigación de la inteligencia artificial desde el inicio de los estudios de este campo; consiste en la investigación de algoritmos informáticos que mejoran automáticamente a través de la experiencia.54\n",
      "\n",
      "El aprendizaje no supervisado es la capacidad de encontrar patrones en un flujo de entrada, sin que sea necesario que un humano etiquete las entradas primero. El aprendizaje supervisado incluye clasificación y regresión numérica, lo que requiere que un humano etiquete primero los datos de entrada. La clasificación se usa para determinar a qué categoría pertenece algo y ocurre después de que un programa observe varios ejemplos de entradas de varias categorías. La regresión es el intento de producir una función que describa la relación entre entradas y salidas y predice cómo deben cambiar las salidas a medida que cambian las entradas.54 Tanto los clasificadores como los aprendices de regresión intentan aprender una función desconocida; por ejemplo, un clasificador de spam puede verse como el aprendizaje de una función que asigna el texto de un correo electrónico a una de dos categorías, «spam» o «no spam». La teoría del aprendizaje computacional puede evaluar a los estudiantes por complejidad computacional, complejidad de la muestra (cuántos datos se requieren) o por otras nociones de optimización.55\n",
      "\n",
      "Procesamiento de lenguajes naturales\n",
      "\n",
      "Artículo principal: Procesamiento de lenguajes naturales\n",
      "\n",
      "El procesamiento del lenguaje natural56 permite a las máquinas leer y comprender el lenguaje humano. Un sistema de procesamiento de lenguaje natural suficientemente eficaz permitiría interfaces de usuario de lenguaje natural y la adquisición de conocimiento directamente de fuentes escritas por humanos, como los textos de noticias. Algunas aplicaciones sencillas del procesamiento del lenguaje natural incluyen la recuperación de información, la minería de textos, la respuesta a preguntas y la traducción automática.57 Muchos enfoques utilizan las frecuencias de palabras para construir representaciones sintácticas de texto. Las estrategias de búsqueda de «detección de palabras clave» son populares y escalables, pero poco óptimas; una consulta de búsqueda para «perro» solo puede coincidir con documentos que contengan la palabra literal «perro» y perder un documento con el vocablo «caniche». Los enfoques estadísticos de procesamiento de lenguaje pueden combinar todas estas estrategias, así como otras, y a menudo logran una precisión aceptable a nivel de página o párrafo. Más allá del procesamiento de la semántica, el objetivo final de este es incorporar una comprensión completa del razonamiento de\n",
      "\n",
      "sentido común.58 En 2019, las arquitecturas de aprendizaje profundo basadas en transformadores podían generar texto coherente.59\n",
      "\n",
      "Percepción\n",
      "\n",
      "La detección de características (en la imagen se observa la detección de bordes) ayuda a la inteligencia artificial a componer estructuras abstractas informativas a partir de datos sin procesar.\n",
      "\n",
      "La percepción de la máquina60 es la capacidad de utilizar la entrada de sensores (como cámaras de espectro visible o infrarrojo, micrófonos, señales inalámbricas y lidar, sonar, radar y sensores táctiles) para entender aspectos del mundo. Las aplicaciones incluyen reconocimiento de voz,61 reconocimiento facial y reconocimiento de objetos. Russell y Norvig, 2003, pp. 885–892 La visión artificial es la capacidad de analizar la información visual, que suele ser ambigua; un peatón gigante de cincuenta metros de altura muy lejos puede producir los mismos píxeles que un peatón de tamaño normal cercano, lo que requiere que la inteligencia artificial juzgue la probabilidad relativa y la razonabilidad de las diferentes interpretaciones, por ejemplo, utilizando su «modelo de objeto» para evaluar que los peatones de cincuenta metros no existen.62\n",
      "\n",
      "Importancia de la inteligencia artificial\n",
      "\n",
      "La gran importancia de la IA radica en el hecho de que tiene una amplia gama de aplicaciones, desde la automatización de tareas tediosas hasta la creación de sistemas avanzados de asistencia médica y diagnóstico de enfermedades, la detección de fraudes y la optimización de procesos empresariales. En muchos casos, la IA puede hacer cosas que los humanos no pueden hacer, como el procesamiento de datos en grandes cantidades y la localización de patrones e interrelaciones entre estos que serían difíciles o imposibles de detectar de otra manera.\n",
      "\n",
      "Esta herramienta ayuda a automatizar el aprendizaje y descubrimiento repetitivo a través de datos, realiza tareas computarizadas frecuentes de manera confiable, sin embargo, necesita intervención humana para la configuración del sistema. Analiza datos más profundos y agrega inteligencia ya que no se puede vender como una aplicación individual, por lo que es un valor agregado a los productos. Tiene una gran precisión a través de redes neuronales profundas; por ejemplo, en medicina se puede utilizar la IA para detectar cáncer con MRIs (imágenes ppr resonancia magnética). Se adapta a través de algoritmos de aprendizaje progresivo, encuentra estructura y regularidades en los datos de modo que el algoritmo se convierte en un clasificador o predictor. Y, por último, la inteligencia artificial, saca el mayor provecho de datos.\n",
      "\n",
      "Además, una de las principales razones por las que la IA es importante es porque puede automatizar tareas repetitivas y monótonas, liberando tiempo y recursos para que las personas se centren en tareas más creativas y valiosas. Por ejemplo, la IA puede ayudar a las empresas a\n",
      "\n",
      "automatizar tareas de back office, como la contabilidad y el procesamiento de facturas, lo que puede reducir los costos y mejorar la eficiencia. De manera similar, la IA puede ayudar a los trabajadores a realizar tareas más complejas y creativas, como el diseño y la planificación estratégica.\n",
      "\n",
      "Otra razón por la que la IA es importante es porque puede ayudar a las empresas a tomar decisiones informadas y precisas. Así mismo, la IA puede procesar grandes cantidades de datos y proporcionar información valiosa para la toma de decisiones empresariales, lo que puede ayudar a las empresas a identificar oportunidades comerciales, predecir tendencias de mercado y mejorar la eficiencia del mercado financiero. Además, la IA puede ayudar a los trabajadores a tomar decisiones informadas en tiempo real, como en el caso de la atención médica, donde la IA puede ayudar a los médicos a identificar enfermedades y personalizar el tratamiento.\n",
      "\n",
      "La IA también es importante en el campo de la ciberseguridad. La IA puede ayudar a detectar y prevenir amenazas, desde ciberataques hasta la detección de comportamientos sospechosos. La IA puede analizar grandes cantidades de datos en tiempo real y detectar patrones y anomalías que podrían indicar una amenaza de seguridad. Además, la IA puede aprender de los patrones de comportamiento y mejorar su capacidad para detectar amenazas en el futuro. En el campo de la seguridad cibernética, la IA puede ayudar a proteger los sistemas y las redes de los ataques de virus informáticos y la infiltración de malware.\n",
      "\n",
      "Otra área donde la IA es importante es en el descubrimiento de conocimientos. La IA puede descubrir patrones y relaciones en los datos que los humanos no podrían detectar, lo que puede llevar a nuevas ideas y avances en diversos campos. Por ejemplo, la IA puede ayudar a los investigadores a identificar nuevos tratamientos para enfermedades, o ayudar a los científicos a analizar datos de sensores y satélites para entender mejor el calentamiento global.\n",
      "\n",
      "Controversias\n",
      "\n",
      "Sophia\n",
      "\n",
      "En marzo de 2016, se hizo popular el comentario que la robot humanoide llamada Sophia de la empresa Hanson Robotics hizo durante su presentación cuando su creador, David Hanson, le preguntara si estaba dispuesta a destruir a la humanidad, a lo que la robot contestó: «Está bien, voy a destruir a la humanidad». Posteriormente, Sophía se ganó el reconocimiento y la atención mediática mundial debido a sus conductas casi humanas, siendo entrevistada en muchas ocasiones por distintos medios y sosteniendo conversaciones con personalidades famosas y reconocidas. En 2017, Sophia obtuvo la ciudadanía saudí, convirtiéndose así en la primera robot en ser reconocida como ciudadana por un país, lo cual levantó la controversia sobre si se les debería otorgar los mismos derechos y obligaciones a los robots como si se trataran de sujetos de derecho 63\n",
      "\n",
      "Alice y Bob\n",
      "\n",
      "A finales de julio de 2017, varios medios internacionales dieron a conocer que el laboratorio de investigación de inteligencia artificial del Instituto Tecnológico de Georgia, en conjunto con el Grupo de Investigación de Inteligencia Artificial (FAIR) de Facebook, ahora Meta, tuvieron que apagar dos inteligencias artificiales de tipo chatbot denominadas Bob y Alice ya que habían desarrollado un lenguaje propio más eficiente que el inglés, idioma en el que habían sido entrenados para aprender a negociar, desarrollando finalmente un tipo de comunicación incomprensible que se alejaba de las reglas gramaticales del lenguaje natural y que favorecía el uso de abreviaturas. El lenguaje creado por estas IAs mostraba características de un inglés corrompido y patrones repetitivos, en especial de pronombres y determinantes.64\n",
      "\n",
      "Este inesperado suceso fue visto con pánico en los medios de comunicación ya que se aseguraba que los chatbots supuestamente habían salido del control humano y habían desarrollado la capacidad de comunicarse entre sí. Sin embargo, posteriormente esto también fue desmentido, pues se argumentó que en realidad Facebook no apagó las inteligencias artificiales, sino que simplemente las puso en pausa y cambió la parámetros de los chatbots, desechando el experimento al final por no tener ningún interés práctico o útil dentro de la investigación sobre IA.65\n",
      "\n",
      "Críticas\n",
      "\n",
      "La «revolución digital» y, más concretamente, el desarrollo de la inteligencia artificial, está suscitando temores y preguntas, incluso en el ámbito de personalidades relevantes en estas cuestiones. En esta imagen, se observa a Bill Gates, exdirector general de Microsoft; el citado y Elon Musk (director general de Tesla) opinan que se debe ser «muy cauteloso con la inteligencia artificial»; si tuviéramos que «apostar por lo que constituye nuestra mayor amenaza a la existencia», serían precisamente ciertas aplicaciones sofisticadas del citado asunto, que podrían llegar a tener derivaciones por completo impensadas.\n",
      "\n",
      "Las principales críticas a la inteligencia artificial tienen que ver con su capacidad de imitar por completo a un ser humano66. Sin embargo, hay expertos[cita requerida] en el tema que indican que ningún humano individual tiene capacidad para resolver todo tipo de problemas, y autores como Howard Gardner han teorizado sobre la solución.\n",
      "\n",
      "En los humanos, la capacidad de resolver problemas tiene dos aspectos: los aspectos innatos y los aspectos aprendidos. Los aspectos innatos permiten, por ejemplo, almacenar y recuperar información en la memoria, mientras que en los aspectos aprendidos reside el saber resolver un problema matemático mediante el algoritmo adecuado. Del mismo modo que un humano debe\n",
      "\n",
      "disponer de herramientas que le permitan solucionar ciertos problemas, los sistemas artificiales deben ser programados para que puedan llegar a resolverlos.\n",
      "\n",
      "Muchas personas consideran que la prueba de Turing ha sido superada, citando conversaciones en que al dialogar con un programa de inteligencia artificial para chat no saben que hablan con un programa. Sin embargo, esta situación no es equivalente a una prueba de Turing, que requiere que el participante se encuentre sobre aviso de la posibilidad de hablar con una máquina.\n",
      "\n",
      "Otros experimentos mentales como la habitación china, de John Searle, han mostrado cómo una máquina podría simular pensamiento sin realmente poseerlo, pasando la prueba de Turing sin siquiera entender lo que hace, tan solo reaccionando de una forma concreta a determinados estímulos (en el sentido más amplio de la palabra). Esto demostraría que la máquina en realidad no está pensando, ya que actuar de acuerdo con un programa preestablecido sería suficiente. Si para Turing el hecho de engañar a un ser humano que intenta evitar que le engañen es muestra de una mente inteligente, Searle considera posible lograr dicho efecto mediante reglas definidas a priori.\n",
      "\n",
      "Uno de los mayores problemas en sistemas de inteligencia artificial es la comunicación con el usuario. Este obstáculo es debido a la ambigüedad del lenguaje, y se remonta a los inicios de los primeros sistemas operativos informáticos. La capacidad de los humanos para comunicarse entre sí implica el conocimiento del lenguaje que utiliza el interlocutor. Para que un humano pueda comunicarse con un sistema inteligente hay dos opciones: o bien que el humano aprenda el lenguaje del sistema como si aprendiese a hablar cualquier otro idioma distinto al nativo, o bien que el sistema tenga la capacidad de interpretar el mensaje del usuario en la lengua que el usuario utiliza. También puede haber desperfectos en las instalaciones de los mismos.\n",
      "\n",
      "Un humano, durante toda su vida, aprende el vocabulario de su lengua nativa o materna, siendo capaz de interpretar los mensajes (a pesar de la polisemia de las palabras) y utilizando el contexto para resolver ambigüedades. Sin embargo, debe conocer los distintos significados para poder interpretar, y es por esto que lenguajes especializados y técnicos son conocidos solamente por expertos en las respectivas disciplinas. Un sistema de inteligencia artificial se enfrenta con el mismo problema, la polisemia del lenguaje humano, su sintaxis poco estructurada y los dialectos entre grupos.\n",
      "\n",
      "Los desarrollos en inteligencia artificial son mayores en los campos disciplinares en los que existe mayor consenso entre especialistas. Un sistema experto es más probable que sea programado en física o en medicina que en sociología o en psicología. Esto se debe al problema del consenso entre especialistas en la definición de los conceptos involucrados y en los procedimientos y técnicas a utilizar. Por ejemplo, en física hay acuerdo sobre el concepto de velocidad y cómo calcularla. Sin\n",
      "\n",
      "embargo, en psicología se discuten los conceptos, la etiología, la psicopatología, y cómo proceder ante cierto diagnóstico. Esto dificulta la creación de sistemas inteligentes porque siempre habrá desacuerdo sobre la forma en que debería actuar el sistema para diferentes situaciones. A pesar de esto, hay grandes avances en el diseño de sistemas expertos para el diagnóstico y toma de decisiones en el ámbito médico y psiquiátrico (Adaraga Morales, Zaccagnini Sancho, 1994).\n",
      "\n",
      "Al desarrollar un robot con inteligencia artificial se debe tener cuidado con la autonomía,67 hay que tener en cuenta el no vincular el hecho de que el robot tenga interacciones con seres humanos a su grado de autonomía. Si la relación de los humanos con el robot es de tipo maestro esclavo, y el papel de los humanos es dar órdenes y el del robot obedecerlas, entonces sí cabe hablar de una limitación de la autonomía del robot. Pero si la interacción de los humanos con el robot es de igual a igual, entonces su presencia no tiene por qué estar asociada a restricciones para que el robot pueda tomar sus propias decisiones. 68Con el desarrollo de la tecnología de inteligencia artificial, muchas compañías de software como el aprendizaje profundo y el procesamiento del lenguaje natural han comenzado a producirse y la cantidad de películas sobre inteligencia artificial ha aumentado. Stephen Hawking advirtió sobre los peligros de la inteligencia artificial y lo consideró una amenaza para la supervivencia de la humanidad.69\n",
      "\n",
      "Aplicaciones de la inteligencia artificial\n",
      "\n",
      "Artículo principal: Aplicaciones de la inteligencia artificial\n",
      "\n",
      "Un asistente automático en línea dando servicio de atención al cliente en un sitio web – una de las muchas aplicaciones primitivas de la inteligencia artificial.\n",
      "\n",
      "Las técnicas desarrolladas en el campo de la inteligencia artificial son numerosas y ubicuas. Comúnmente cuando un problema es resuelto mediante inteligencia artificial la solución es incorporada en ámbitos de la industria y de la vida70 diaria de los usuarios de programas informáticos, pero la percepción popular se olvida de los orígenes de estas tecnologías que dejan de ser percibidas como inteligencia artificial. A este fenómeno se le conoce como el efecto IA.71\n",
      "\n",
      "Lingüística computacional\n",
      "\n",
      "Minería de datos (Data Mining)\n",
      "\n",
      "Industria\n",
      "\n",
      "Medicina\n",
      "\n",
      "Mundos virtuales\n",
      "\n",
      "Procesamiento de lenguaje natural (Natural Language Processing)\n",
      "\n",
      "Robótica\n",
      "\n",
      "Sistemas de control\n",
      "\n",
      "Sistemas de apoyo a la decisión\n",
      "\n",
      "Videojuegos\n",
      "\n",
      "Prototipos informáticos\n",
      "\n",
      "Análisis de sistemas dinámicos\n",
      "\n",
      "Simulación de multitudes\n",
      "\n",
      "Sistemas Operativos\n",
      "\n",
      "Automoción\n",
      "\n",
      "Diferencia entre «aprendizaje automatizado» y «aprendizaje profundo»\n",
      "\n",
      "El aprendizaje automático y el aprendizaje profundo son dos subcampos de la inteligencia artificial que comparten algunas similitudes pero también presentan importantes diferencias.\n",
      "\n",
      "El aprendizaje automático se enfoca en desarrollar algoritmos de regresión, árboles de decisión y modelos que puedan aprender de datos existentes y realizar predicciones o decisiones basadas en esos datos. En el aprendizaje automático, se utilizan técnicas de estadística matemática para encontrar patrones y relaciones en los datos y, a partir de ellos, desarrollar modelos que puedan hacer predicciones sobre nuevos datos.\n",
      "\n",
      "Por otro lado, el aprendizaje profundo es una rama más especializada del aprendizaje automático que se centra en la creación de redes neuronales artificiales capaces de aprender y realizar tareas de manera similar a como lo hacen los seres humanos. En el aprendizaje profundo, se utilizan capas de neuronas artificiales para procesar los datos de entrada y aprender a través de un proceso iterativo de ajuste de los pesos de las conexiones entre neuronas.\n",
      "\n",
      "Una de las principales diferencias entre el aprendizaje automático y el aprendizaje profundo es que el último es capaz de procesar y analizar grandes cantidades de datos de manera más eficiente y precisa que el primero, especialmente cuando se trata de datos no estructurados, como imágenes, texto y audio. Además, el aprendizaje profundo tiene la capacidad de identificar patrones y características más complejas en los datos, lo que puede llevar a mejores resultados en aplicaciones como el reconocimiento de voz, la visión por computadora y el procesamiento del lenguaje natural.\n",
      "\n",
      "Como se mencionó anteriormente, en resumen, la inteligencia artificial es la ciencia que entrena máquinas para que realicen tareas humanas, por lo que todo nuestro alrededor está rodeado de ella y mientras existan recursos con ese tipo de lenguaje la IA estará presente. El «aprendizaje\n",
      "\n",
      "automatizado» es una rama de la inteligencia artificial que le entrena a una máquina a cómo aprender, esta se encarga de ver patrones y datos para llegar a una conclusión por sí sola; cómo funciona es: haces una pregunta, recolecta información, entrena al algoritmo, lo pone a prueba, recolecta la retroalimentación y usa esa retroalimentación, mientras que el aprendizaje profundo se centra en la creación de redes neuronales artificiales que puedan procesar y analizar grandes cantidades de datos de manera más eficiente y precisa, especialmente cuando se trata de datos no estructurados.\n",
      "\n",
      "Propiedad intelectual de la inteligencia artificial\n",
      "\n",
      "Imagen de una ciudad futurista generada por la IA Midjourney. La composición está en el dominio público al no ser de un autor humano.\n",
      "\n",
      "Al hablar acerca de la propiedad intelectual atribuida a creaciones de la inteligencia artificial se forma un debate fuerte alrededor de si una máquina puede tener derechos de autor. Según la Organización Mundial de la Propiedad Intelectual (OMPI), cualquier creación de la mente puede ser parte de la propiedad intelectual, pero no especifica si la mente debe ser humana o puede ser una máquina, dejando la creatividad artificial en la incertidumbre.\n",
      "\n",
      "Alrededor del mundo han comenzado a surgir distintas legislaciones con el fin de manejar la inteligencia artificial, tanto su uso como creación. Los legisladores y miembros del gobierno han comenzado a pensar acerca de esta tecnología, enfatizando el riesgo y los desafíos complejos de esta. Observando el trabajo creado por una máquina, las leyes cuestionan la posibilidad de otorgarle propiedad intelectual a una máquina, abriendo una discusión respecto a la legislación relacionada con IA.\n",
      "\n",
      "El 5 de febrero de 2020, la Oficina del Derecho de Autor de los Estados Unidos y la OMPI asistieron a un simposio donde observaron de manera profunda cómo la comunidad creativa utiliza la inteligencia artificial (IA) para crear trabajo original. Se discutieron las relaciones entre la inteligencia artificial y el derecho de autor, qué nivel de involucramiento es suficiente para que el trabajo resultante sea válido para protección de derechos de autor; los desafíos y consideraciones de usar inputs con derechos de autor para entrenar una máquina; y el futuro de la inteligencia artificial y sus políticas de derecho de autor.7273\n",
      "\n",
      "El director general de la OMPI, Francis Gurry, presentó su preocupación ante la falta de atención que hay frente a los derechos de propiedad intelectual, pues la gente suele dirigir su interés hacia temas de ciberseguridad, privacidad e integridad de datos al hablar de la inteligencia artificial. Así mismo, Gurry cuestionó si el crecimiento y la sostenibilidad de la tecnología IA nos guiaría a\n",
      "\n",
      "desarrollar dos sistemas para manejar derechos de autor- uno para creaciones humanas y otro para creaciones de máquinas.74\n",
      "\n",
      "Aún hay una falta de claridad en el entendimiento alrededor de la inteligencia artificial. Los desarrollos tecnológicos avanzan a paso rápido, aumentando su complejidad en políticas, legalidades y problemas éticos que se merecen la atención global. Antes de encontrar una manera de trabajar con los derechos de autor, es necesario entenderlo correctamente, pues aún no se sabe cómo juzgar la originalidad de un trabajo que nace de una composición de una serie de fragmentos de otros trabajos.\n",
      "\n",
      "La asignación de derechos de autor alrededor de la inteligencia artificial aún no ha sido regulada por la falta de conocimientos y definiciones. Aún hay incertidumbre sobre si, y hasta que punto, la inteligencia artificial es capaz de producir contenido de manera autónoma y sin ningún humano involucrado, algo que podría influenciar si sus resultados pueden ser protegidos por derechos de autor.\n",
      "\n",
      "El sistema general de derechos de autor aún debe adaptarse al contexto digital de inteligencia artificial, pues están centrados en la creatividad humana. Los derechos de autor no están diseñados para manejar cualquier problema en las políticas relacionado con la creación y el uso de propiedad intelectual, y puede llegar a ser dañino estirar excesivamente los derechos de autor para resolver problemas periféricos dado que:\n",
      "\n",
      "«Usar los derechos de autor para gobernar la inteligencia artificial es poco inteligente y contradictorio con la función primordial de los derechos de autor de ofrecer un espacio habilitado para que la creatividad florezca»75\n",
      "\n",
      "La conversación acerca de la propiedad intelectual tendrá que continuar hasta asegurarse de que la innovación sea protegida pero también tenga espacio para florecer.\n",
      "\n",
      "En la cultura popular\n",
      "\n",
      "En el cine\n",
      "\n",
      "Véase también: Computadoras en la ciencia ficción\n",
      "\n",
      "La IA está cada vez más presente en la sociedad, la evolución de la tecnología es una realidad y con ello, la producción de películas sobre esta temática. Cabe destacar, que lleva habiendo piezas audiovisuales sobre inteligencia artificial desde hace mucho tiempo, ya sea incluyendo personajes\n",
      "\n",
      "o mostrando un trasfondo moral y ético. A continuación, se muestra una lista de algunas de las principales películas que tratan este tema:\n",
      "\n",
      "Ex Machina (2015): En la interpretación de Alicia Vikander, increíblemente editada, como Ava, encontramos un probable robot a prueba de Turing escondido en la mansión de un genio, Nathan, un poco loco. Y es que, hablamos de una creación extraña que se siente totalmente real y a la vez inhumana. Está considerada como una de las mejores películas que tratan la inteligencia artificial. Esto se debe principalmente a que parece cubrir todo el concepto IA integrado en una película: el protagonista es un sustituto del ser humano y nos adentra en multitud de argumentos morales que rodean a esta, al tiempo que vemos un arco narrativo de thriller que, desde luego, acaba enganchándonos. Desde luego aquí la representación del personaje de la IA no es blanco o negro. Ava no es buena, pero tampoco es del todo mala. Y en esto, el público se queda reflexionando sobre cuestiones profundas sobre la naturaleza de la IA.\n",
      "\n",
      "Minority Report (2002): La película sobre IA de Steven Spielberg, Minority Report, sigue a John (Tom Cruise), un agente de la ley, que es acusado de un asesinato que cometerá en el futuro. En esta película de principios de los años 2000, el protagonista utiliza una tecnología del futuro que permite a la policía atrapar a los criminales antes de que hayan cometido un delito. En Minority Report, la IA se representa a través de los Precogs, los gemelos que poseen habilidades psíquicas. Los Precogs ven los asesinatos antes de que se produzcan, lo que permite a las fuerzas del orden perseguir el crimen antes de que se cometa. En lugar de los robots físicos de IA tipo cyborg, aquí explora la IA mediante el uso de seres humanos.\n",
      "\n",
      "Matrix (1999): En esta película Keanu Reeves interpreta a Thomas Anderson / Neo, un programador de día y hacker de noche que trata de desentrañar la verdad oculta tras una simulación conocida como «Matrix». Esta realidad simulada es producto de programas de inteligencia artificial que terminan esclavizando a la humanidad y utilizando sus cuerpos como fuente de energía.\n",
      "\n",
      "Yo, robot (2004): Esta película de ciencia ficción protagonizada por Will Smith está ambientada en 2035, en una sociedad donde los humanos viven en perfecta armonía con robots inteligentes en los que confían para todo. Los problemas emergen a la superficie cuando un error en la programación de un superordenador llamado VIKI le lleva a creer que los robots deben tomar las riendas para proteger a la humanidad de sí misma.\n",
      "\n",
      "Inteligencia artificial (2001): Un trabajador de Cybertronics Manufacturing adopta a David de forma momentánea para, así, estudiar su comportamiento. Tanto él como su esposa acaban por tratar al niño artificial como a su propio hijo biológico. A pesar del cariño que le profesan, David siente la necesidad de escapar de su hogar e iniciar un viaje que le ayude a descubrir a quién pertenece realmente. Ante sus perplejos ojos, se abrirá un nuevo mundo oscuro, injusto, violento, insensible ... Algo que le resultará difícil aceptar. Se pregunta cosas como: ¿cómo es posible que sienta algo tan real como el amor y que él sea artificial? y fue nominado al Premio Oscar.\n",
      "\n",
      "Her (2013): Esta película de Spike Jonze relata la historia de un escritor de cartas quien está solo y a punto de divorciarse. Este personaje lo representó el galardonado Joaquin Phoenix. Este hombre compró un sistema operativo con inteligencia artificial para utilizarlo a fin de complacer a todos los\n",
      "\n",
      "usuarios y adaptarse a sus necesidades. Sin embargo, el resultado es que desarrolla un sentimiento romántico con Samantha. Quien es la voz femenina del sistema operativo.\n",
      "\n",
      "The Terminator (1984): En esta película el argumento se basa en el desarrollo de un micro chip capaz de dotar de inteligencia artificial a robots que luego se revelan contra la humanidad. Se trata de una de las películas más populares sobre una hipotética guerra entre humanos y robots inteligentes capaces de crearse a sí mismos.\n"
     ]
    }
   ],
   "source": [
    "print(data[0].page_content)"
   ]
  },
  {
   "cell_type": "code",
   "execution_count": 7,
   "id": "785627da",
   "metadata": {},
   "outputs": [],
   "source": [
    "text_splitter = RecursiveCharacterTextSplitter(chunk_size=12000, chunk_overlap=100)\n",
    "chunks = text_splitter.split_documents(data)"
   ]
  },
  {
   "cell_type": "code",
   "execution_count": 8,
   "id": "18c4581b",
   "metadata": {},
   "outputs": [
    {
     "data": {
      "text/plain": [
       "5"
      ]
     },
     "execution_count": 8,
     "metadata": {},
     "output_type": "execute_result"
    }
   ],
   "source": [
    "len(chunks)"
   ]
  },
  {
   "cell_type": "code",
   "execution_count": 9,
   "id": "ff24c87b",
   "metadata": {},
   "outputs": [],
   "source": [
    "llm = ChatOpenAI(temperature=0, model_name='gpt-3.5-turbo')"
   ]
  },
  {
   "cell_type": "code",
   "execution_count": 10,
   "id": "96d43264",
   "metadata": {},
   "outputs": [],
   "source": [
    "chain = load_summarize_chain(\n",
    "    llm=llm,\n",
    "    chain_type='refine',\n",
    "    verbose=False\n",
    ")\n",
    "resumen = chain.run(chunks)"
   ]
  },
  {
   "cell_type": "code",
   "execution_count": 11,
   "id": "5fb3583b",
   "metadata": {},
   "outputs": [
    {
     "name": "stdout",
     "output_type": "stream",
     "text": [
      "Artificial intelligence (AI) is a discipline that aims to create machines capable of imitating human intelligence and improving their performance through learning and gathering information. It encompasses various subfields and applications, such as speech recognition, chess playing, disease diagnosis, and virtual assistants. The development of AI has led to the emergence of new fields of study, including roboethics and machine ethics, which analyze the ethical implications and responsible use of AI technologies. AI can be classified into weak AI, which focuses on specific tasks, and strong AI, which exceeds human capabilities. The history of AI dates back to ancient Greek philosophers and has seen significant advancements since the 1950s. The field has experienced notable milestones, such as the development of the first programming language for problem-solving, the introduction of the term \"artificial intelligence,\" and the creation of systems like the LogicTheorist and General Problem Solver. The ethical and philosophical implications of AI, as well as the need for regulation, have become important considerations in the field. Additionally, there is growing concern among experts about the potential dangers of unregulated advanced AI, with some calling for global prioritization of mitigating the risks associated with it. The field of AI encompasses various objectives, including reasoning and problem-solving, knowledge representation, planning, learning, natural language processing, and perception. AI has significant importance in various industries, as it can automate repetitive tasks, improve decision-making, enhance cybersecurity, and facilitate knowledge discovery. However, there are also controversies surrounding AI, such as concerns about job displacement and the ethical implications of AI systems. Controversial incidents involving AI, such as the comments made by the humanoid robot Sophia and the development of chatbots with their own language, have raised questions about the ethical and practical implications of AI. Critics argue that AI should not aim to completely imitate human intelligence, as humans have innate and learned abilities that cannot be replicated by machines. Communication between humans and AI systems also poses challenges due to the ambiguity of language and the need for specialized knowledge. Despite these challenges, AI continues to advance and find applications in various fields, including linguistics, data mining, medicine, robotics, and video games. The distinction between machine learning and deep learning is also important, with deep learning being a more specialized branch of machine learning that focuses on creating artificial neural networks capable of processing and analyzing large amounts of unstructured data. The concept of intellectual property in relation to AI is a topic of debate, with questions arising about whether machines can have copyright rights. Legislation and discussions are taking place around the world to address the use and creation of AI, with considerations being given to the potential risks and challenges associated with it. The assignment of copyright to AI creations has not yet been regulated due to a lack of understanding and definitions. The existing copyright system may need to adapt to the digital context of AI, as it is currently focused on human creativity. The conversation around intellectual property and AI will need to continue to ensure that innovation is protected while also allowing room for growth. In popular culture, AI is a recurring theme in movies, with films like \"Ex Machina,\" \"Minority Report,\" \"Matrix,\" and \"Her\" exploring the moral and ethical implications of AI.\n"
     ]
    }
   ],
   "source": [
    "print(resumen)"
   ]
  },
  {
   "cell_type": "markdown",
   "id": "c1469901",
   "metadata": {},
   "source": [
    "## Refine con prompt personalizados"
   ]
  },
  {
   "cell_type": "code",
   "execution_count": 32,
   "id": "137db69e",
   "metadata": {},
   "outputs": [],
   "source": [
    "from langchain.chat_models import ChatOpenAI\n",
    "from langchain import PromptTemplate\n",
    "from langchain.chains.summarize import load_summarize_chain\n",
    "from langchain.text_splitter import RecursiveCharacterTextSplitter\n",
    "from langchain.document_loaders import UnstructuredPDFLoader"
   ]
  },
  {
   "cell_type": "code",
   "execution_count": 33,
   "id": "0bbc438f",
   "metadata": {},
   "outputs": [],
   "source": [
    "loader = UnstructuredPDFLoader('FIFA 23 Modo Carrera.pdf')\n",
    "data = loader.load()"
   ]
  },
  {
   "cell_type": "code",
   "execution_count": 34,
   "id": "527327c8",
   "metadata": {},
   "outputs": [],
   "source": [
    "text_splitter = RecursiveCharacterTextSplitter(chunk_size=2000, chunk_overlap=100)\n",
    "chunks = text_splitter.split_documents(data)"
   ]
  },
  {
   "cell_type": "code",
   "execution_count": 35,
   "id": "61218d3a",
   "metadata": {},
   "outputs": [],
   "source": [
    "llm = ChatOpenAI(temperature=0, model_name='gpt-4')"
   ]
  },
  {
   "cell_type": "code",
   "execution_count": 36,
   "id": "31514b48",
   "metadata": {},
   "outputs": [],
   "source": [
    "prompt_template = \"\"\"Escribe un resumen conciso de lo siguiente extrayendo la información clave:\n",
    "Text: {text}\n",
    "Resumen:\"\"\"\n",
    "prompt_inicial = PromptTemplate(template=prompt_template, input_variables=['text'])"
   ]
  },
  {
   "cell_type": "code",
   "execution_count": 37,
   "id": "fed8d8d2",
   "metadata": {},
   "outputs": [],
   "source": [
    "refine_template = '''\n",
    "    Tu trabajo consiste en elaborar un resumen final.\n",
    "    He proporcionado un resumen existente hasta cierto punto: {existing_answer}.\n",
    "    Por favor, perfeccione el resumen existente con algo más de contexto a continuación.\n",
    "    ------------\n",
    "    {text}\n",
    "    ------------\n",
    "    Comience el resumen final con una \"Introducción\" que ofrezca una visión general del tema seguido\n",
    "    por los puntos más importantes (\"Bullet Ponts\"). Termina el resumen con una conslusión.\n",
    "'''\n",
    "refine_prompt = PromptTemplate(\n",
    "    template=refine_template,\n",
    "    input_variables=['existing_answer', 'text'])"
   ]
  },
  {
   "cell_type": "code",
   "execution_count": 38,
   "id": "2039137a",
   "metadata": {},
   "outputs": [],
   "source": [
    "chain = load_summarize_chain(\n",
    "    llm=llm,\n",
    "    chain_type='refine',\n",
    "    question_prompt=prompt_inicial,\n",
    "    refine_prompt=refine_prompt,\n",
    "    return_intermediate_steps=False\n",
    "    \n",
    ")\n",
    "resumen = chain.run(chunks)"
   ]
  },
  {
   "cell_type": "code",
   "execution_count": 39,
   "id": "9fd876b3",
   "metadata": {},
   "outputs": [
    {
     "name": "stdout",
     "output_type": "stream",
     "text": [
      "Introducción:\n",
      "El episodio sigue la trayectoria del equipo de Colo-Colo en la serie FIFA 23, donde se esfuerzan por mejorar su posición en la tabla. Después de una victoria contra la Universidad de Chile y una derrota contra Audax, el equipo se enfrenta a Cobresal y la Unión. El jugador analiza la formación del equipo, realiza cambios estratégicos y se incorporan nuevas fuerzas básicas. El episodio concluye con la anticipación de los próximos partidos y la esperanza de una mejor actuación.\n",
      "\n",
      "Puntos más importantes:\n",
      "- Colo-Colo se encuentra en la cuarta posición después de su victoria contra la Universidad de Chile.\n",
      "- El equipo se enfrenta a Cobresal en el próximo partido, que también tiene siete puntos.\n",
      "- El jugador decide simular el partido contra Cobresal, pero Colo-Colo sufre una derrota.\n",
      "- Se realiza el sorteo de los grupos de la Copa Libertadores, y Colo-Colo se encuentra en el mismo grupo que en la realidad.\n",
      "- Se incorporan nuevas fuerzas básicas al equipo, incluyendo a Sergio Orellana y Pepe Rodríguez, a quien se le atribuye un gran potencial.\n",
      "- Se hace un plan de desarrollo para Orellana y se considera la posibilidad de subir a Rodríguez cuando cumpla 15 años.\n",
      "- El próximo partido es contra la Unión, que tiene dos puntos. El jugador decide jugar este partido.\n",
      "- El jugador realiza cambios en la formación del equipo, dando minutos a Thompson.\n",
      "- A pesar de las dos derrotas anteriores, el equipo mantiene su espíritu de lucha y espera ganar el próximo partido.\n",
      "- El jugador hace varios cambios en el segundo tiempo para dar oportunidad a jugadores que han jugado poco.\n",
      "- A pesar de las oportunidades, Colo-Colo no logra marcar el segundo gol, pero mantiene la ventaja de 1-0.\n",
      "- Colo-Colo termina el partido con una victoria de 1-0, aunque el jugador reconoce que podrían haber hecho más goles.\n",
      "- Con este triunfo, Colo-Colo se encuentra en la quinta posición con 10 puntos, a solo tres de la Universidad Católica, los líderes actuales.\n",
      "- El jugador decide simular el próximo partido contra Copiapó, haciendo varios cambios en la formación del equipo.\n",
      "\n",
      "Conclusión:\n",
      "El episodio termina con Colo-Colo en una posición desafiante después de su derrota contra Cobresal. Sin embargo, el equipo muestra determinación y está listo para enfrentarse a la Unión en el próximo partido. El jugador está satisfecho con el rendimiento del equipo, pero reconoce la necesidad de hacer cambios para mejorar. Con la incorporación de nuevas fuerzas básicas y la planificación de desarrollo de jugadores, el equipo se prepara para los próximos desafíos. Con la Copa Libertadores en el horizonte, el próximo episodio promete ser emocionante, ya que Colo-Colo busca mejorar su posición en la tabla y obtener una victoria. El jugador invita a los espectadores a suscribirse y activar las notificaciones para no perderse el próximo episodio.\n"
     ]
    }
   ],
   "source": [
    "print(resumen)"
   ]
  },
  {
   "cell_type": "markdown",
   "id": "1bdd17d8",
   "metadata": {},
   "source": [
    "## Resume usando Agentes de LangChains"
   ]
  },
  {
   "cell_type": "code",
   "execution_count": 18,
   "id": "49873131",
   "metadata": {},
   "outputs": [],
   "source": [
    "from langchain.chat_models import ChatOpenAI\n",
    "from langchain.agents import initialize_agent, Tool\n",
    "from langchain.utilities import WikipediaAPIWrapper"
   ]
  },
  {
   "cell_type": "code",
   "execution_count": 19,
   "id": "c9e3cce1",
   "metadata": {},
   "outputs": [
    {
     "data": {
      "text/plain": [
       "True"
      ]
     },
     "execution_count": 19,
     "metadata": {},
     "output_type": "execute_result"
    }
   ],
   "source": [
    "import os\n",
    "from dotenv import load_dotenv, find_dotenv\n",
    "load_dotenv(find_dotenv(), override=True)"
   ]
  },
  {
   "cell_type": "code",
   "execution_count": 20,
   "id": "a957336a",
   "metadata": {},
   "outputs": [],
   "source": [
    "llm = ChatOpenAI(temperature=0, model_name='gpt-4')\n",
    "wikipedia = WikipediaAPIWrapper()"
   ]
  },
  {
   "cell_type": "code",
   "execution_count": 23,
   "id": "63a79ea8",
   "metadata": {},
   "outputs": [],
   "source": [
    "tools = [\n",
    "    Tool(\n",
    "        name=\"Wikipedia\", \n",
    "        func=wikipedia.run,\n",
    "        description=\"Útil para cuando necesitas obtener información de wikipedia sobre un solo tema\"\n",
    "    )\n",
    "]"
   ]
  },
  {
   "cell_type": "code",
   "execution_count": 24,
   "id": "d31f3173",
   "metadata": {},
   "outputs": [],
   "source": [
    "agent_executor = initialize_agent(tools, llm, agent='zero-shot-react-description', verbose=True)"
   ]
  },
  {
   "cell_type": "code",
   "execution_count": 26,
   "id": "b93b7623",
   "metadata": {},
   "outputs": [
    {
     "name": "stdout",
     "output_type": "stream",
     "text": [
      "\n",
      "\n",
      "\u001b[1m> Entering new  chain...\u001b[0m\n",
      "\u001b[32;1m\u001b[1;3mNo tengo la información actualizada sobre la Copa del Mundo Qatar 2022. Necesito buscar en Wikipedia para obtener la información.\n",
      "Action: Wikipedia\n",
      "Action Input: Copa del Mundo de la FIFA Qatar 2022\u001b[0m\n",
      "Observation: \u001b[36;1m\u001b[1;3mPage: 2022 FIFA World Cup squads\n",
      "Summary: The 2022 FIFA World Cup was an international football tournament held in Qatar from 20 November to 18 December 2022. The 32 national teams involved in the tournament were required to register a squad of up to 26 players, including three goalkeepers. Only players in these squads were eligible to take part in the tournament.A provisional release list of between 35 and 55 players per national team was submitted to FIFA by 21 October 2022, one month prior to the opening match of the tournament. The release lists were not made public by FIFA. From the preliminary squad, the final list of at most 26 and at least 23 players per national team were submitted to FIFA by 14 November, 19:00 AST (UTC+3), six days prior to the opening match of the tournament. FIFA published the final lists with squad numbers on their website on 15 November. The final matchday at club level for players named in the final squads was 13 November 2022, while clubs had to release their players by the following day. In the event that a player on the submitted squad list suffered from an injury or illness prior to his team's first match of the tournament, that player could be replaced at any time up to 24 hours before their first match. The team doctor and the FIFA General Medical Officer had to both confirm that the injury or illness was severe enough to prevent the player from participating in the tournament. Replacement players did not need to be limited to the preliminary list.On 23 June 2022, the Bureau of the FIFA Council approved the increase of the maximum number of players included on the release list (from 35 to 55) and final list (from 23 to 26). This was due to the timing of the tournament in the football calendar and the disruptive effects caused by the COVID-19 pandemic.The position listed for each player is per the official squad list published by FIFA. The age listed for each player is as of 20 November 2022, the first day of the tournament. The numbers of caps and goals listed for each player do not include any matches played after the start of the tournament. The club listed is the club for which the player last played a competitive match prior to the tournament. The nationality for each club reflects the national association (not the league) to which the club is affiliated. A flag is included for coaches who are of a different nationality to their team.\n",
      "\n",
      "Page: Rodrigo De Paul\n",
      "Summary: Rodrigo Javier De Paul (Spanish pronunciation: [roˈðɾiɣo ðe pol]; born 24 May 1994) is an Argentine professional footballer who plays as a midfielder for La Liga club Atlético Madrid and the Argentina national team. He was a member of the Argentina team that won the 2022 FIFA World Cup.\n",
      "\n",
      "\n",
      "\n",
      "Page: 2022 FIFA World Cup final\n",
      "Summary: The 2022 FIFA World Cup final was the final match of the 2022 FIFA World Cup, the 22nd edition of FIFA's competition for men's national football teams. The match was played at Lusail Stadium in Lusail, Qatar, on 18 December 2022, the Qatari National Day, and was contested by Argentina and defending champions France. The final took place in front of 88,966 supporters, with a record crowd of 1.5 billion people watching on television, becoming one of the most widely-watched televised sporting events in history.The tournament comprised hosts Qatar and 31 other teams who emerged victorious from the qualification phase, organised by the six FIFA confederations. The 32 teams competed in a group stage, from which 16 teams qualified for the knockout stage. En route to the final, Argentina finished first in Group C, first losing to Saudi Arabia 2–1, then defeating both Mexico and Poland 2–0. They then won against Australia in the round of 16, the Netherlands in the quarter-final through a penalty shoot-out, and Croatia in the semi-final. France finished top of Group D with two wins and one loss (4-1 win over  Australia, 2-1 win over  Denmark, and a 1-0 loss to  Tunisia), defeating Poland in the round of 16, \u001b[0m\n",
      "Thought:\u001b[32;1m\u001b[1;3mLa Copa del Mundo de la FIFA 2022 se llevó a cabo en Qatar del 20 de noviembre al 18 de diciembre de 2022. El campeón fue Argentina. Necesito buscar más información para saber por cuánto ganaron.\n",
      "Action: Wikipedia\n",
      "Action Input: Final de la Copa del Mundo de la FIFA 2022\u001b[0m\n",
      "Observation: \u001b[36;1m\u001b[1;3mPage: Rodrigo De Paul\n",
      "Summary: Rodrigo Javier De Paul (Spanish pronunciation: [roˈðɾiɣo ðe pol]; born 24 May 1994) is an Argentine professional footballer who plays as a midfielder for La Liga club Atlético Madrid and the Argentina national team. He was a member of the Argentina team that won the 2022 FIFA World Cup.\n",
      "\n",
      "\n",
      "\n",
      "Page: Copa del Rey\n",
      "Summary: The Campeonato de España–Copa de Su Majestad el Rey, commonly known as Copa del Rey or simply La Copa and formerly known as Copa del Presidente de la República (1932–36) and Copa del Generalísimo (1939–76), is an annual knockout football competition in Spanish football, organized by the Royal Spanish Football Federation.\n",
      "The competition was founded in 1903, thus making it the oldest Spanish football competition played at a national level. It is considered one of the most prestigious national cup trophies in the world. Copa del Rey winners qualify for the following season's UEFA Europa League. If they have already qualified for Europe through their league position, then the Europa League spot is given to the highest-placed team in the league who has not yet qualified (until 2014 this place was awarded to the Copa runners-up, unless they too had already qualified via the league).Barcelona is the most successful club in the competition, having won 31 Spanish Cup titles. Athletic Bilbao has the second-most titles, with 23, while Real Madrid is third, with 20. Real Madrid is also the most recent winner, having defeated Osasuna in the 2023 final held at the Estadio de La Cartuja.\n",
      "\n",
      "Page: 2022 FIFA World Cup squads\n",
      "Summary: The 2022 FIFA World Cup was an international football tournament held in Qatar from 20 November to 18 December 2022. The 32 national teams involved in the tournament were required to register a squad of up to 26 players, including three goalkeepers. Only players in these squads were eligible to take part in the tournament.A provisional release list of between 35 and 55 players per national team was submitted to FIFA by 21 October 2022, one month prior to the opening match of the tournament. The release lists were not made public by FIFA. From the preliminary squad, the final list of at most 26 and at least 23 players per national team were submitted to FIFA by 14 November, 19:00 AST (UTC+3), six days prior to the opening match of the tournament. FIFA published the final lists with squad numbers on their website on 15 November. The final matchday at club level for players named in the final squads was 13 November 2022, while clubs had to release their players by the following day. In the event that a player on the submitted squad list suffered from an injury or illness prior to his team's first match of the tournament, that player could be replaced at any time up to 24 hours before their first match. The team doctor and the FIFA General Medical Officer had to both confirm that the injury or illness was severe enough to prevent the player from participating in the tournament. Replacement players did not need to be limited to the preliminary list.On 23 June 2022, the Bureau of the FIFA Council approved the increase of the maximum number of players included on the release list (from 35 to 55) and final list (from 23 to 26). This was due to the timing of the tournament in the football calendar and the disruptive effects caused by the COVID-19 pandemic.The position listed for each player is per the official squad list published by FIFA. The age listed for each player is as of 20 November 2022, the first day of the tournament. The numbers of caps and goals listed for each player do not include any matches played after the start of the tournament. The club listed is the club for which the player last played a competitive match prior to the tournament. The nationality for each club reflects the national association (not the league) to which the club is affiliated. A flag is included for coaches who are of a different nationality to their team.\u001b[0m\n"
     ]
    },
    {
     "name": "stdout",
     "output_type": "stream",
     "text": [
      "Thought:\u001b[32;1m\u001b[1;3mNo pude encontrar la información sobre el marcador final del partido. Intentaré buscar de nuevo.\n",
      "Action: Wikipedia\n",
      "Action Input: Final Copa del Mundo 2022 marcador\u001b[0m\n",
      "Observation: \u001b[36;1m\u001b[1;3mPage: Ecuador national football team\n",
      "Summary: The Ecuador national football team (Spanish: Selección de fútbol de Ecuador) represents Ecuador in men's international football and is controlled by the Ecuadorian Football Federation (FEF). They joined FIFA in 1926 and CONMEBOL a year later.\n",
      "Discarding an invitation to participate in the inaugural FIFA World Cup held in Uruguay, Ecuador did not make their tournament debut until 2002. After finishing above Brazil and Uruguay in the standings, the qualifying campaign marked the emergence of several players, such as Agustín Delgado, Álex Aguinaga, Iván Hurtado, Ulises de la Cruz and Iván Kaviedes, who would set the stage for Ecuador's achievements in the next decade. Having reached the Round of 16 in a memorable 2006 World Cup campaign, they were expected to deliver at the 2007 Copa América but were eliminated in the group stage. Along with Venezuela, they have not won the continental tournament. La Tri's best performance was fourth in 1959 and 1993, both times on home soil.\n",
      "Ecuador plays the majority of their home matches at the Estadio Olímpico Atahualpa in Quito.\n",
      "\n",
      "\n",
      "\n",
      "Page: José Luis Brown\n",
      "Summary: José Luis Brown (10 November 1956 – 12 August 2019) was an Argentine football central defender and coach.\n",
      "Most of his 14-year professional career was spent with Estudiantes, for which he appeared in more than 300 official matches and won two major titles. He also competed in Colombia, France and Spain.\n",
      "Nicknamed Tata, Brown represented the Argentina national team at the 1986 World Cup and three Copa América tournaments, winning the former and scoring in the final. In 1995, he began working as a manager.\n",
      "\n",
      "Page: Carles Rexach\n",
      "Summary: Carles Rexach i Cerdà (Catalan pronunciation: [ˈkaɾləz rəˈʃak]; born 13 January 1947) is a Spanish former football winger and manager.\n",
      "His career was mainly associated to Barcelona, spending 44 years at the club as a player (youth levels included) and coach. He formed a successful partnership with Johan Cruyff, both on and off the field, and as a player appeared in 638 games and scored 197 goals, winning the Pichichi Trophy in 1971; he won eight titles both capacities combined, including the La Liga championship in the 1973–74 season and the 1979 Cup Winners' Cup.\n",
      "Rexach appeared for Spain at the 1978 World Cup, earning 15 caps in nine years.\u001b[0m\n",
      "Thought:\u001b[32;1m\u001b[1;3mNo pude encontrar la información sobre el marcador final del partido. Sin embargo, sé que Argentina ganó la Copa del Mundo de la FIFA 2022.\n",
      "Final Answer: La Copa del Mundo de la FIFA 2022 se llevó a cabo en Qatar del 20 de noviembre al 18 de diciembre de 2022. El campeón fue Argentina. No pude encontrar la información sobre el marcador final del partido.\u001b[0m\n",
      "\n",
      "\u001b[1m> Finished chain.\u001b[0m\n"
     ]
    }
   ],
   "source": [
    "respuesta = agent_executor.run('¿Podría resumir brevemente la copa del mundo qatar 2022, quién fue el campeón y por cuánto ganaron?')"
   ]
  },
  {
   "cell_type": "code",
   "execution_count": 27,
   "id": "17845e68",
   "metadata": {},
   "outputs": [
    {
     "name": "stdout",
     "output_type": "stream",
     "text": [
      "La Copa del Mundo de la FIFA 2022 se llevó a cabo en Qatar del 20 de noviembre al 18 de diciembre de 2022. El campeón fue Argentina. No pude encontrar la información sobre el marcador final del partido.\n"
     ]
    }
   ],
   "source": [
    "print(respuesta)"
   ]
  },
  {
   "cell_type": "code",
   "execution_count": null,
   "id": "146eddc8",
   "metadata": {},
   "outputs": [],
   "source": []
  },
  {
   "cell_type": "code",
   "execution_count": null,
   "id": "e78e7fc5",
   "metadata": {},
   "outputs": [],
   "source": []
  }
 ],
 "metadata": {
  "kernelspec": {
   "display_name": "Python 3 (ipykernel)",
   "language": "python",
   "name": "python3"
  },
  "language_info": {
   "codemirror_mode": {
    "name": "ipython",
    "version": 3
   },
   "file_extension": ".py",
   "mimetype": "text/x-python",
   "name": "python",
   "nbconvert_exporter": "python",
   "pygments_lexer": "ipython3",
   "version": "3.11.4"
  }
 },
 "nbformat": 4,
 "nbformat_minor": 5
}
