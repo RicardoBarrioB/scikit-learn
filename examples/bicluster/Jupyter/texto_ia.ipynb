{
 "cells": [
  {
   "cell_type": "code",
   "execution_count": 1,
   "id": "754e8ed2-b147-4aa6-9b00-8bd2365c4442",
   "metadata": {},
   "outputs": [],
   "source": [
    "import operator\n",
    "from collections import defaultdict\n",
    "from time import time\n",
    "\n",
    "import numpy as np\n",
    "\n",
    "from sklearn.feature_extraction.text import TfidfVectorizer\n",
    "from sklearn.cluster import SpectralCoclustering\n"
   ]
  },
  {
   "cell_type": "code",
   "execution_count": 2,
   "id": "7839ae08-f94c-4044-b84b-c8ac3bd4fc65",
   "metadata": {},
   "outputs": [
    {
     "name": "stdout",
     "output_type": "stream",
     "text": [
      "Vocabulary: {'el': 4, 'gato': 7, 'come': 1, 'pescado': 12, 'los': 9, 'perros': 11, 'corren': 2, 'en': 5, 'parque': 10, 'hoy': 8, 'es': 6, 'un': 13, 'buen': 0, 'día': 3}\n",
      "TF-IDF Matrix:\n",
      "[[0.         0.52863461 0.         0.         0.40204024 0.\n",
      "  0.         0.52863461 0.         0.         0.         0.\n",
      "  0.52863461 0.        ]\n",
      " [0.         0.         0.42339448 0.         0.32200242 0.42339448\n",
      "  0.         0.         0.         0.42339448 0.42339448 0.42339448\n",
      "  0.         0.        ]\n",
      " [0.4472136  0.         0.         0.4472136  0.         0.\n",
      "  0.4472136  0.         0.4472136  0.         0.         0.\n",
      "  0.         0.4472136 ]]\n"
     ]
    }
   ],
   "source": [
    "def number_normalizer(tokens): #Cuando exista algún token numérico, la función revisa si el primer caracter es un número y si es así lo sustituye por #NUMBER(marcador de posición)\n",
    "    return (\"#NUMBER\" if token[0].isdigit() else token for token in tokens)\n",
    "\n",
    "class NumberNormalizingVectorizer(TfidfVectorizer): #Crea un tokenizador, convierte un doc de texto a una matriz TF-IDF\n",
    "    def build_tokenizer(self): #modifica el metodo super para personalizar el tokenizador\n",
    "        tokenize = super().build_tokenizer()\n",
    "        return lambda doc: list(number_normalizer(tokenize(doc)))\n",
    "\n",
    "vectorizer = NumberNormalizingVectorizer()\n",
    "\n",
    "corpus = [\n",
    "    \"El gato come pescado.\",\n",
    "    \"Los perros corren en el parque.\",\n",
    "    \"Hoy es un buen día.\"\n",
    "]\n",
    "\n",
    "# Transformar los datos de texto en una matriz TF-IDF\n",
    "X = vectorizer.fit_transform(corpus)\n",
    "\n",
    "# Imprimir el vocabulario generado por el vectorizador\n",
    "print(\"Vocabulary:\", vectorizer.vocabulary_)\n",
    "\n",
    "# Imprimir la matriz TF-IDF resultante\n",
    "print(\"TF-IDF Matrix:\")\n",
    "print(X.toarray())"
   ]
  }
 ],
 "metadata": {
  "kernelspec": {
   "display_name": "Python 3 (ipykernel)",
   "language": "python",
   "name": "python3"
  },
  "language_info": {
   "codemirror_mode": {
    "name": "ipython",
    "version": 3
   },
   "file_extension": ".py",
   "mimetype": "text/x-python",
   "name": "python",
   "nbconvert_exporter": "python",
   "pygments_lexer": "ipython3",
   "version": "3.12.3"
  }
 },
 "nbformat": 4,
 "nbformat_minor": 5
}
